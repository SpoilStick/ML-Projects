{
  "nbformat": 4,
  "nbformat_minor": 0,
  "metadata": {
    "colab": {
      "provenance": [],
      "collapsed_sections": [],
      "authorship_tag": "ABX9TyPv84IB5q1ExZnTvUWUriP5",
      "include_colab_link": true
    },
    "kernelspec": {
      "name": "python3",
      "display_name": "Python 3"
    },
    "language_info": {
      "name": "python"
    }
  },
  "cells": [
    {
      "cell_type": "markdown",
      "metadata": {
        "id": "view-in-github",
        "colab_type": "text"
      },
      "source": [
        "<a href=\"https://colab.research.google.com/github/SpoilStick/ML-Projects/blob/main/ML_Project_3.ipynb\" target=\"_parent\"><img src=\"https://colab.research.google.com/assets/colab-badge.svg\" alt=\"Open In Colab\"/></a>"
      ]
    },
    {
      "cell_type": "code",
      "source": [
        "import matplotlib as mpl\n",
        "import matplotlib.pyplot as plt\n",
        "import numpy as np\n",
        "import pandas as pd\n",
        "\n",
        "from seaborn import load_dataset\n",
        "from sklearn.model_selection import train_test_split"
      ],
      "metadata": {
        "id": "nDeYAYpF6mDR"
      },
      "execution_count": 1,
      "outputs": []
    },
    {
      "cell_type": "markdown",
      "source": [
        "# Part 1: Data Exploration"
      ],
      "metadata": {
        "id": "BVinIV_p7TZa"
      }
    },
    {
      "cell_type": "code",
      "execution_count": 2,
      "metadata": {
        "id": "FpwfF-0o3vO8"
      },
      "outputs": [],
      "source": [
        "# Load dataset\n",
        "data = load_dataset(\"titanic\")\n",
        "\n",
        "# Remove column; too many missing values\n",
        "data.drop(\"deck\", axis=1)\n",
        "\n",
        "# Impute age using the passenger class\n",
        "age_dict = {}\n",
        "\n",
        "# Define the median age per class\n",
        "for x in data['pclass'].unique():\n",
        "    column = data.loc[data['pclass']==x]\n",
        "    median = column['age'].median()\n",
        "    age_dict[x] = median\n",
        "\n",
        "# Replace the age with the median age of that class\n",
        "def impute_age(pclass):\n",
        "  if type(pclass) == int:\n",
        "    return(age_dict[pclass])\n",
        "\n",
        "  elif type(pclass) == pd.Series:\n",
        "    for x in pclass:\n",
        "      x = age_dict[x]\n",
        "      return x\n",
        "\n",
        "data['age'] = impute_age(data['pclass'])\n",
        "\n",
        "# Remove remaining null values\n",
        "data.dropna()\n",
        "\n",
        "# Convert categorical variables into dummy variables\n",
        "data = pd.get_dummies(data=data, columns=[\"sex\", \"embarked\", \"class\", \"who\", \"adult_male\", \"deck\", \"embark_town\", \"alive\", \"alone\"])\n",
        "\n",
        "X = data\n",
        "y = X.pop('survived')\n",
        "\n",
        "X_train, X_test, y_train, y_test =  train_test_split(X, y, test_size=0.2, random_state=42)"
      ]
    },
    {
      "cell_type": "code",
      "source": [],
      "metadata": {
        "id": "OHiqihwl-R3w"
      },
      "execution_count": null,
      "outputs": []
    }
  ]
}