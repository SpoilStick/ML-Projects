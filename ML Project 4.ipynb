{
  "nbformat": 4,
  "nbformat_minor": 0,
  "metadata": {
    "colab": {
      "provenance": [],
      "collapsed_sections": [],
      "authorship_tag": "ABX9TyNTSx77nYdtiTKaN9W6gX24"
    },
    "kernelspec": {
      "name": "python3",
      "display_name": "Python 3"
    },
    "language_info": {
      "name": "python"
    }
  },
  "cells": [
    {
      "cell_type": "code",
      "execution_count": null,
      "metadata": {
        "id": "lZPKnKZvWz7S"
      },
      "outputs": [],
      "source": [
        "import matplotlib as mpl\n",
        "import matplotlib.pyplot as plt\n",
        "import numpy as np\n",
        "import pandas as pd\n",
        "import seaborn as sns\n",
        "\n",
        "from sklearn.preprocessing import StandardScaler\n",
        "from sklearn.model_selection import train_test_split\n",
        "from sklearn.linear_model import LinearRegression\n",
        "from sklearn.metrics import r2_score\n",
        "from sklearn.metrics import mean_squared_error\n",
        "from sklearn.tree import DecisionTreeRegressor\n",
        "from sklearn.ensemble import RandomForestRegressor\n",
        "from sklearn.linear_model import SGDRegressor\n",
        "from sklearn import linear_model\n",
        "from sklearn.linear_model import ElasticNet\n",
        "from sklearn.linear_model import Ridge\n",
        "from sklearn.ensemble import BaggingRegressor\n",
        "from sklearn.model_selection import cross_val_score\n",
        "from sklearn.model_selection import RandomizedSearchCV\n",
        "\n",
        "from tabulate import tabulate"
      ]
    },
    {
      "cell_type": "markdown",
      "source": [
        "# Part 1: Data Exploration"
      ],
      "metadata": {
        "id": "TgiAzFW-e5Sk"
      }
    },
    {
      "cell_type": "code",
      "source": [
        "# Load dataset\n",
        "data = pd.read_csv(\"bike_share_hour.csv\")"
      ],
      "metadata": {
        "id": "1wfG7yPQv742"
      },
      "execution_count": null,
      "outputs": []
    },
    {
      "cell_type": "code",
      "source": [
        "data.head()"
      ],
      "metadata": {
        "id": "ojqolVVgfCme",
        "colab": {
          "base_uri": "https://localhost:8080/",
          "height": 357
        },
        "outputId": "4359c5b6-cc66-4d8a-c5a1-db70318db78d"
      },
      "execution_count": null,
      "outputs": [
        {
          "output_type": "execute_result",
          "data": {
            "text/plain": [
              "   instant      dteday  season  yr  mnth  hr  holiday  weekday  workingday  \\\n",
              "0        1  2011-01-01       1   0     1   0        0        6           0   \n",
              "1        2  2011-01-01       1   0     1   1        0        6           0   \n",
              "2        3  2011-01-01       1   0     1   2        0        6           0   \n",
              "3        4  2011-01-01       1   0     1   3        0        6           0   \n",
              "4        5  2011-01-01       1   0     1   4        0        6           0   \n",
              "\n",
              "   weathersit  temp   atemp   hum  windspeed  casual  registered  cnt  \n",
              "0           1  0.24  0.2879  0.81        0.0       3          13   16  \n",
              "1           1  0.22  0.2727  0.80        0.0       8          32   40  \n",
              "2           1  0.22  0.2727  0.80        0.0       5          27   32  \n",
              "3           1  0.24  0.2879  0.75        0.0       3          10   13  \n",
              "4           1  0.24  0.2879  0.75        0.0       0           1    1  "
            ],
            "text/html": [
              "\n",
              "  <div id=\"df-8ffcd085-3d04-466a-9a3e-d2b82a82bf73\">\n",
              "    <div class=\"colab-df-container\">\n",
              "      <div>\n",
              "<style scoped>\n",
              "    .dataframe tbody tr th:only-of-type {\n",
              "        vertical-align: middle;\n",
              "    }\n",
              "\n",
              "    .dataframe tbody tr th {\n",
              "        vertical-align: top;\n",
              "    }\n",
              "\n",
              "    .dataframe thead th {\n",
              "        text-align: right;\n",
              "    }\n",
              "</style>\n",
              "<table border=\"1\" class=\"dataframe\">\n",
              "  <thead>\n",
              "    <tr style=\"text-align: right;\">\n",
              "      <th></th>\n",
              "      <th>instant</th>\n",
              "      <th>dteday</th>\n",
              "      <th>season</th>\n",
              "      <th>yr</th>\n",
              "      <th>mnth</th>\n",
              "      <th>hr</th>\n",
              "      <th>holiday</th>\n",
              "      <th>weekday</th>\n",
              "      <th>workingday</th>\n",
              "      <th>weathersit</th>\n",
              "      <th>temp</th>\n",
              "      <th>atemp</th>\n",
              "      <th>hum</th>\n",
              "      <th>windspeed</th>\n",
              "      <th>casual</th>\n",
              "      <th>registered</th>\n",
              "      <th>cnt</th>\n",
              "    </tr>\n",
              "  </thead>\n",
              "  <tbody>\n",
              "    <tr>\n",
              "      <th>0</th>\n",
              "      <td>1</td>\n",
              "      <td>2011-01-01</td>\n",
              "      <td>1</td>\n",
              "      <td>0</td>\n",
              "      <td>1</td>\n",
              "      <td>0</td>\n",
              "      <td>0</td>\n",
              "      <td>6</td>\n",
              "      <td>0</td>\n",
              "      <td>1</td>\n",
              "      <td>0.24</td>\n",
              "      <td>0.2879</td>\n",
              "      <td>0.81</td>\n",
              "      <td>0.0</td>\n",
              "      <td>3</td>\n",
              "      <td>13</td>\n",
              "      <td>16</td>\n",
              "    </tr>\n",
              "    <tr>\n",
              "      <th>1</th>\n",
              "      <td>2</td>\n",
              "      <td>2011-01-01</td>\n",
              "      <td>1</td>\n",
              "      <td>0</td>\n",
              "      <td>1</td>\n",
              "      <td>1</td>\n",
              "      <td>0</td>\n",
              "      <td>6</td>\n",
              "      <td>0</td>\n",
              "      <td>1</td>\n",
              "      <td>0.22</td>\n",
              "      <td>0.2727</td>\n",
              "      <td>0.80</td>\n",
              "      <td>0.0</td>\n",
              "      <td>8</td>\n",
              "      <td>32</td>\n",
              "      <td>40</td>\n",
              "    </tr>\n",
              "    <tr>\n",
              "      <th>2</th>\n",
              "      <td>3</td>\n",
              "      <td>2011-01-01</td>\n",
              "      <td>1</td>\n",
              "      <td>0</td>\n",
              "      <td>1</td>\n",
              "      <td>2</td>\n",
              "      <td>0</td>\n",
              "      <td>6</td>\n",
              "      <td>0</td>\n",
              "      <td>1</td>\n",
              "      <td>0.22</td>\n",
              "      <td>0.2727</td>\n",
              "      <td>0.80</td>\n",
              "      <td>0.0</td>\n",
              "      <td>5</td>\n",
              "      <td>27</td>\n",
              "      <td>32</td>\n",
              "    </tr>\n",
              "    <tr>\n",
              "      <th>3</th>\n",
              "      <td>4</td>\n",
              "      <td>2011-01-01</td>\n",
              "      <td>1</td>\n",
              "      <td>0</td>\n",
              "      <td>1</td>\n",
              "      <td>3</td>\n",
              "      <td>0</td>\n",
              "      <td>6</td>\n",
              "      <td>0</td>\n",
              "      <td>1</td>\n",
              "      <td>0.24</td>\n",
              "      <td>0.2879</td>\n",
              "      <td>0.75</td>\n",
              "      <td>0.0</td>\n",
              "      <td>3</td>\n",
              "      <td>10</td>\n",
              "      <td>13</td>\n",
              "    </tr>\n",
              "    <tr>\n",
              "      <th>4</th>\n",
              "      <td>5</td>\n",
              "      <td>2011-01-01</td>\n",
              "      <td>1</td>\n",
              "      <td>0</td>\n",
              "      <td>1</td>\n",
              "      <td>4</td>\n",
              "      <td>0</td>\n",
              "      <td>6</td>\n",
              "      <td>0</td>\n",
              "      <td>1</td>\n",
              "      <td>0.24</td>\n",
              "      <td>0.2879</td>\n",
              "      <td>0.75</td>\n",
              "      <td>0.0</td>\n",
              "      <td>0</td>\n",
              "      <td>1</td>\n",
              "      <td>1</td>\n",
              "    </tr>\n",
              "  </tbody>\n",
              "</table>\n",
              "</div>\n",
              "      <button class=\"colab-df-convert\" onclick=\"convertToInteractive('df-8ffcd085-3d04-466a-9a3e-d2b82a82bf73')\"\n",
              "              title=\"Convert this dataframe to an interactive table.\"\n",
              "              style=\"display:none;\">\n",
              "        \n",
              "  <svg xmlns=\"http://www.w3.org/2000/svg\" height=\"24px\"viewBox=\"0 0 24 24\"\n",
              "       width=\"24px\">\n",
              "    <path d=\"M0 0h24v24H0V0z\" fill=\"none\"/>\n",
              "    <path d=\"M18.56 5.44l.94 2.06.94-2.06 2.06-.94-2.06-.94-.94-2.06-.94 2.06-2.06.94zm-11 1L8.5 8.5l.94-2.06 2.06-.94-2.06-.94L8.5 2.5l-.94 2.06-2.06.94zm10 10l.94 2.06.94-2.06 2.06-.94-2.06-.94-.94-2.06-.94 2.06-2.06.94z\"/><path d=\"M17.41 7.96l-1.37-1.37c-.4-.4-.92-.59-1.43-.59-.52 0-1.04.2-1.43.59L10.3 9.45l-7.72 7.72c-.78.78-.78 2.05 0 2.83L4 21.41c.39.39.9.59 1.41.59.51 0 1.02-.2 1.41-.59l7.78-7.78 2.81-2.81c.8-.78.8-2.07 0-2.86zM5.41 20L4 18.59l7.72-7.72 1.47 1.35L5.41 20z\"/>\n",
              "  </svg>\n",
              "      </button>\n",
              "      \n",
              "  <style>\n",
              "    .colab-df-container {\n",
              "      display:flex;\n",
              "      flex-wrap:wrap;\n",
              "      gap: 12px;\n",
              "    }\n",
              "\n",
              "    .colab-df-convert {\n",
              "      background-color: #E8F0FE;\n",
              "      border: none;\n",
              "      border-radius: 50%;\n",
              "      cursor: pointer;\n",
              "      display: none;\n",
              "      fill: #1967D2;\n",
              "      height: 32px;\n",
              "      padding: 0 0 0 0;\n",
              "      width: 32px;\n",
              "    }\n",
              "\n",
              "    .colab-df-convert:hover {\n",
              "      background-color: #E2EBFA;\n",
              "      box-shadow: 0px 1px 2px rgba(60, 64, 67, 0.3), 0px 1px 3px 1px rgba(60, 64, 67, 0.15);\n",
              "      fill: #174EA6;\n",
              "    }\n",
              "\n",
              "    [theme=dark] .colab-df-convert {\n",
              "      background-color: #3B4455;\n",
              "      fill: #D2E3FC;\n",
              "    }\n",
              "\n",
              "    [theme=dark] .colab-df-convert:hover {\n",
              "      background-color: #434B5C;\n",
              "      box-shadow: 0px 1px 3px 1px rgba(0, 0, 0, 0.15);\n",
              "      filter: drop-shadow(0px 1px 2px rgba(0, 0, 0, 0.3));\n",
              "      fill: #FFFFFF;\n",
              "    }\n",
              "  </style>\n",
              "\n",
              "      <script>\n",
              "        const buttonEl =\n",
              "          document.querySelector('#df-8ffcd085-3d04-466a-9a3e-d2b82a82bf73 button.colab-df-convert');\n",
              "        buttonEl.style.display =\n",
              "          google.colab.kernel.accessAllowed ? 'block' : 'none';\n",
              "\n",
              "        async function convertToInteractive(key) {\n",
              "          const element = document.querySelector('#df-8ffcd085-3d04-466a-9a3e-d2b82a82bf73');\n",
              "          const dataTable =\n",
              "            await google.colab.kernel.invokeFunction('convertToInteractive',\n",
              "                                                     [key], {});\n",
              "          if (!dataTable) return;\n",
              "\n",
              "          const docLinkHtml = 'Like what you see? Visit the ' +\n",
              "            '<a target=\"_blank\" href=https://colab.research.google.com/notebooks/data_table.ipynb>data table notebook</a>'\n",
              "            + ' to learn more about interactive tables.';\n",
              "          element.innerHTML = '';\n",
              "          dataTable['output_type'] = 'display_data';\n",
              "          await google.colab.output.renderOutput(dataTable, element);\n",
              "          const docLink = document.createElement('div');\n",
              "          docLink.innerHTML = docLinkHtml;\n",
              "          element.appendChild(docLink);\n",
              "        }\n",
              "      </script>\n",
              "    </div>\n",
              "  </div>\n",
              "  "
            ]
          },
          "metadata": {},
          "execution_count": 6
        }
      ]
    },
    {
      "cell_type": "code",
      "source": [
        "print(data[\"season\"].unique())"
      ],
      "metadata": {
        "id": "LUxlHnbZpMyG",
        "colab": {
          "base_uri": "https://localhost:8080/"
        },
        "outputId": "b352c539-02ff-4cba-8ce9-38edd576cda8"
      },
      "execution_count": null,
      "outputs": [
        {
          "output_type": "stream",
          "name": "stdout",
          "text": [
            "[1 2 3 4]\n"
          ]
        }
      ]
    },
    {
      "cell_type": "code",
      "source": [
        "# Categorical values are already converted\n",
        "data = data.drop(columns=[\"dteday\"])\n",
        "data.dropna()"
      ],
      "metadata": {
        "id": "JT7seiy41SpJ",
        "colab": {
          "base_uri": "https://localhost:8080/",
          "height": 488
        },
        "outputId": "25a60457-7b45-49d1-91e6-04a0b64bf5b1"
      },
      "execution_count": null,
      "outputs": [
        {
          "output_type": "execute_result",
          "data": {
            "text/plain": [
              "       instant  season  yr  mnth  hr  holiday  weekday  workingday  \\\n",
              "0            1       1   0     1   0        0        6           0   \n",
              "1            2       1   0     1   1        0        6           0   \n",
              "2            3       1   0     1   2        0        6           0   \n",
              "3            4       1   0     1   3        0        6           0   \n",
              "4            5       1   0     1   4        0        6           0   \n",
              "...        ...     ...  ..   ...  ..      ...      ...         ...   \n",
              "17374    17375       1   1    12  19        0        1           1   \n",
              "17375    17376       1   1    12  20        0        1           1   \n",
              "17376    17377       1   1    12  21        0        1           1   \n",
              "17377    17378       1   1    12  22        0        1           1   \n",
              "17378    17379       1   1    12  23        0        1           1   \n",
              "\n",
              "       weathersit  temp   atemp   hum  windspeed  casual  registered  cnt  \n",
              "0               1  0.24  0.2879  0.81     0.0000       3          13   16  \n",
              "1               1  0.22  0.2727  0.80     0.0000       8          32   40  \n",
              "2               1  0.22  0.2727  0.80     0.0000       5          27   32  \n",
              "3               1  0.24  0.2879  0.75     0.0000       3          10   13  \n",
              "4               1  0.24  0.2879  0.75     0.0000       0           1    1  \n",
              "...           ...   ...     ...   ...        ...     ...         ...  ...  \n",
              "17374           2  0.26  0.2576  0.60     0.1642      11         108  119  \n",
              "17375           2  0.26  0.2576  0.60     0.1642       8          81   89  \n",
              "17376           1  0.26  0.2576  0.60     0.1642       7          83   90  \n",
              "17377           1  0.26  0.2727  0.56     0.1343      13          48   61  \n",
              "17378           1  0.26  0.2727  0.65     0.1343      12          37   49  \n",
              "\n",
              "[17379 rows x 16 columns]"
            ],
            "text/html": [
              "\n",
              "  <div id=\"df-517d5ffb-d922-4db0-b691-9a1d18892c5e\">\n",
              "    <div class=\"colab-df-container\">\n",
              "      <div>\n",
              "<style scoped>\n",
              "    .dataframe tbody tr th:only-of-type {\n",
              "        vertical-align: middle;\n",
              "    }\n",
              "\n",
              "    .dataframe tbody tr th {\n",
              "        vertical-align: top;\n",
              "    }\n",
              "\n",
              "    .dataframe thead th {\n",
              "        text-align: right;\n",
              "    }\n",
              "</style>\n",
              "<table border=\"1\" class=\"dataframe\">\n",
              "  <thead>\n",
              "    <tr style=\"text-align: right;\">\n",
              "      <th></th>\n",
              "      <th>instant</th>\n",
              "      <th>season</th>\n",
              "      <th>yr</th>\n",
              "      <th>mnth</th>\n",
              "      <th>hr</th>\n",
              "      <th>holiday</th>\n",
              "      <th>weekday</th>\n",
              "      <th>workingday</th>\n",
              "      <th>weathersit</th>\n",
              "      <th>temp</th>\n",
              "      <th>atemp</th>\n",
              "      <th>hum</th>\n",
              "      <th>windspeed</th>\n",
              "      <th>casual</th>\n",
              "      <th>registered</th>\n",
              "      <th>cnt</th>\n",
              "    </tr>\n",
              "  </thead>\n",
              "  <tbody>\n",
              "    <tr>\n",
              "      <th>0</th>\n",
              "      <td>1</td>\n",
              "      <td>1</td>\n",
              "      <td>0</td>\n",
              "      <td>1</td>\n",
              "      <td>0</td>\n",
              "      <td>0</td>\n",
              "      <td>6</td>\n",
              "      <td>0</td>\n",
              "      <td>1</td>\n",
              "      <td>0.24</td>\n",
              "      <td>0.2879</td>\n",
              "      <td>0.81</td>\n",
              "      <td>0.0000</td>\n",
              "      <td>3</td>\n",
              "      <td>13</td>\n",
              "      <td>16</td>\n",
              "    </tr>\n",
              "    <tr>\n",
              "      <th>1</th>\n",
              "      <td>2</td>\n",
              "      <td>1</td>\n",
              "      <td>0</td>\n",
              "      <td>1</td>\n",
              "      <td>1</td>\n",
              "      <td>0</td>\n",
              "      <td>6</td>\n",
              "      <td>0</td>\n",
              "      <td>1</td>\n",
              "      <td>0.22</td>\n",
              "      <td>0.2727</td>\n",
              "      <td>0.80</td>\n",
              "      <td>0.0000</td>\n",
              "      <td>8</td>\n",
              "      <td>32</td>\n",
              "      <td>40</td>\n",
              "    </tr>\n",
              "    <tr>\n",
              "      <th>2</th>\n",
              "      <td>3</td>\n",
              "      <td>1</td>\n",
              "      <td>0</td>\n",
              "      <td>1</td>\n",
              "      <td>2</td>\n",
              "      <td>0</td>\n",
              "      <td>6</td>\n",
              "      <td>0</td>\n",
              "      <td>1</td>\n",
              "      <td>0.22</td>\n",
              "      <td>0.2727</td>\n",
              "      <td>0.80</td>\n",
              "      <td>0.0000</td>\n",
              "      <td>5</td>\n",
              "      <td>27</td>\n",
              "      <td>32</td>\n",
              "    </tr>\n",
              "    <tr>\n",
              "      <th>3</th>\n",
              "      <td>4</td>\n",
              "      <td>1</td>\n",
              "      <td>0</td>\n",
              "      <td>1</td>\n",
              "      <td>3</td>\n",
              "      <td>0</td>\n",
              "      <td>6</td>\n",
              "      <td>0</td>\n",
              "      <td>1</td>\n",
              "      <td>0.24</td>\n",
              "      <td>0.2879</td>\n",
              "      <td>0.75</td>\n",
              "      <td>0.0000</td>\n",
              "      <td>3</td>\n",
              "      <td>10</td>\n",
              "      <td>13</td>\n",
              "    </tr>\n",
              "    <tr>\n",
              "      <th>4</th>\n",
              "      <td>5</td>\n",
              "      <td>1</td>\n",
              "      <td>0</td>\n",
              "      <td>1</td>\n",
              "      <td>4</td>\n",
              "      <td>0</td>\n",
              "      <td>6</td>\n",
              "      <td>0</td>\n",
              "      <td>1</td>\n",
              "      <td>0.24</td>\n",
              "      <td>0.2879</td>\n",
              "      <td>0.75</td>\n",
              "      <td>0.0000</td>\n",
              "      <td>0</td>\n",
              "      <td>1</td>\n",
              "      <td>1</td>\n",
              "    </tr>\n",
              "    <tr>\n",
              "      <th>...</th>\n",
              "      <td>...</td>\n",
              "      <td>...</td>\n",
              "      <td>...</td>\n",
              "      <td>...</td>\n",
              "      <td>...</td>\n",
              "      <td>...</td>\n",
              "      <td>...</td>\n",
              "      <td>...</td>\n",
              "      <td>...</td>\n",
              "      <td>...</td>\n",
              "      <td>...</td>\n",
              "      <td>...</td>\n",
              "      <td>...</td>\n",
              "      <td>...</td>\n",
              "      <td>...</td>\n",
              "      <td>...</td>\n",
              "    </tr>\n",
              "    <tr>\n",
              "      <th>17374</th>\n",
              "      <td>17375</td>\n",
              "      <td>1</td>\n",
              "      <td>1</td>\n",
              "      <td>12</td>\n",
              "      <td>19</td>\n",
              "      <td>0</td>\n",
              "      <td>1</td>\n",
              "      <td>1</td>\n",
              "      <td>2</td>\n",
              "      <td>0.26</td>\n",
              "      <td>0.2576</td>\n",
              "      <td>0.60</td>\n",
              "      <td>0.1642</td>\n",
              "      <td>11</td>\n",
              "      <td>108</td>\n",
              "      <td>119</td>\n",
              "    </tr>\n",
              "    <tr>\n",
              "      <th>17375</th>\n",
              "      <td>17376</td>\n",
              "      <td>1</td>\n",
              "      <td>1</td>\n",
              "      <td>12</td>\n",
              "      <td>20</td>\n",
              "      <td>0</td>\n",
              "      <td>1</td>\n",
              "      <td>1</td>\n",
              "      <td>2</td>\n",
              "      <td>0.26</td>\n",
              "      <td>0.2576</td>\n",
              "      <td>0.60</td>\n",
              "      <td>0.1642</td>\n",
              "      <td>8</td>\n",
              "      <td>81</td>\n",
              "      <td>89</td>\n",
              "    </tr>\n",
              "    <tr>\n",
              "      <th>17376</th>\n",
              "      <td>17377</td>\n",
              "      <td>1</td>\n",
              "      <td>1</td>\n",
              "      <td>12</td>\n",
              "      <td>21</td>\n",
              "      <td>0</td>\n",
              "      <td>1</td>\n",
              "      <td>1</td>\n",
              "      <td>1</td>\n",
              "      <td>0.26</td>\n",
              "      <td>0.2576</td>\n",
              "      <td>0.60</td>\n",
              "      <td>0.1642</td>\n",
              "      <td>7</td>\n",
              "      <td>83</td>\n",
              "      <td>90</td>\n",
              "    </tr>\n",
              "    <tr>\n",
              "      <th>17377</th>\n",
              "      <td>17378</td>\n",
              "      <td>1</td>\n",
              "      <td>1</td>\n",
              "      <td>12</td>\n",
              "      <td>22</td>\n",
              "      <td>0</td>\n",
              "      <td>1</td>\n",
              "      <td>1</td>\n",
              "      <td>1</td>\n",
              "      <td>0.26</td>\n",
              "      <td>0.2727</td>\n",
              "      <td>0.56</td>\n",
              "      <td>0.1343</td>\n",
              "      <td>13</td>\n",
              "      <td>48</td>\n",
              "      <td>61</td>\n",
              "    </tr>\n",
              "    <tr>\n",
              "      <th>17378</th>\n",
              "      <td>17379</td>\n",
              "      <td>1</td>\n",
              "      <td>1</td>\n",
              "      <td>12</td>\n",
              "      <td>23</td>\n",
              "      <td>0</td>\n",
              "      <td>1</td>\n",
              "      <td>1</td>\n",
              "      <td>1</td>\n",
              "      <td>0.26</td>\n",
              "      <td>0.2727</td>\n",
              "      <td>0.65</td>\n",
              "      <td>0.1343</td>\n",
              "      <td>12</td>\n",
              "      <td>37</td>\n",
              "      <td>49</td>\n",
              "    </tr>\n",
              "  </tbody>\n",
              "</table>\n",
              "<p>17379 rows × 16 columns</p>\n",
              "</div>\n",
              "      <button class=\"colab-df-convert\" onclick=\"convertToInteractive('df-517d5ffb-d922-4db0-b691-9a1d18892c5e')\"\n",
              "              title=\"Convert this dataframe to an interactive table.\"\n",
              "              style=\"display:none;\">\n",
              "        \n",
              "  <svg xmlns=\"http://www.w3.org/2000/svg\" height=\"24px\"viewBox=\"0 0 24 24\"\n",
              "       width=\"24px\">\n",
              "    <path d=\"M0 0h24v24H0V0z\" fill=\"none\"/>\n",
              "    <path d=\"M18.56 5.44l.94 2.06.94-2.06 2.06-.94-2.06-.94-.94-2.06-.94 2.06-2.06.94zm-11 1L8.5 8.5l.94-2.06 2.06-.94-2.06-.94L8.5 2.5l-.94 2.06-2.06.94zm10 10l.94 2.06.94-2.06 2.06-.94-2.06-.94-.94-2.06-.94 2.06-2.06.94z\"/><path d=\"M17.41 7.96l-1.37-1.37c-.4-.4-.92-.59-1.43-.59-.52 0-1.04.2-1.43.59L10.3 9.45l-7.72 7.72c-.78.78-.78 2.05 0 2.83L4 21.41c.39.39.9.59 1.41.59.51 0 1.02-.2 1.41-.59l7.78-7.78 2.81-2.81c.8-.78.8-2.07 0-2.86zM5.41 20L4 18.59l7.72-7.72 1.47 1.35L5.41 20z\"/>\n",
              "  </svg>\n",
              "      </button>\n",
              "      \n",
              "  <style>\n",
              "    .colab-df-container {\n",
              "      display:flex;\n",
              "      flex-wrap:wrap;\n",
              "      gap: 12px;\n",
              "    }\n",
              "\n",
              "    .colab-df-convert {\n",
              "      background-color: #E8F0FE;\n",
              "      border: none;\n",
              "      border-radius: 50%;\n",
              "      cursor: pointer;\n",
              "      display: none;\n",
              "      fill: #1967D2;\n",
              "      height: 32px;\n",
              "      padding: 0 0 0 0;\n",
              "      width: 32px;\n",
              "    }\n",
              "\n",
              "    .colab-df-convert:hover {\n",
              "      background-color: #E2EBFA;\n",
              "      box-shadow: 0px 1px 2px rgba(60, 64, 67, 0.3), 0px 1px 3px 1px rgba(60, 64, 67, 0.15);\n",
              "      fill: #174EA6;\n",
              "    }\n",
              "\n",
              "    [theme=dark] .colab-df-convert {\n",
              "      background-color: #3B4455;\n",
              "      fill: #D2E3FC;\n",
              "    }\n",
              "\n",
              "    [theme=dark] .colab-df-convert:hover {\n",
              "      background-color: #434B5C;\n",
              "      box-shadow: 0px 1px 3px 1px rgba(0, 0, 0, 0.15);\n",
              "      filter: drop-shadow(0px 1px 2px rgba(0, 0, 0, 0.3));\n",
              "      fill: #FFFFFF;\n",
              "    }\n",
              "  </style>\n",
              "\n",
              "      <script>\n",
              "        const buttonEl =\n",
              "          document.querySelector('#df-517d5ffb-d922-4db0-b691-9a1d18892c5e button.colab-df-convert');\n",
              "        buttonEl.style.display =\n",
              "          google.colab.kernel.accessAllowed ? 'block' : 'none';\n",
              "\n",
              "        async function convertToInteractive(key) {\n",
              "          const element = document.querySelector('#df-517d5ffb-d922-4db0-b691-9a1d18892c5e');\n",
              "          const dataTable =\n",
              "            await google.colab.kernel.invokeFunction('convertToInteractive',\n",
              "                                                     [key], {});\n",
              "          if (!dataTable) return;\n",
              "\n",
              "          const docLinkHtml = 'Like what you see? Visit the ' +\n",
              "            '<a target=\"_blank\" href=https://colab.research.google.com/notebooks/data_table.ipynb>data table notebook</a>'\n",
              "            + ' to learn more about interactive tables.';\n",
              "          element.innerHTML = '';\n",
              "          dataTable['output_type'] = 'display_data';\n",
              "          await google.colab.output.renderOutput(dataTable, element);\n",
              "          const docLink = document.createElement('div');\n",
              "          docLink.innerHTML = docLinkHtml;\n",
              "          element.appendChild(docLink);\n",
              "        }\n",
              "      </script>\n",
              "    </div>\n",
              "  </div>\n",
              "  "
            ]
          },
          "metadata": {},
          "execution_count": 8
        }
      ]
    },
    {
      "cell_type": "code",
      "source": [
        "def bar_chart(df, x_axis, y_axis):\n",
        "  # Sum for each unique x value\n",
        "  for x in df[x_axis].unique():\n",
        "    # Get the columns\n",
        "    sum = df.loc[df[x_axis]==x]\n",
        "    # Sum over that column\n",
        "    sum = sum[y_axis].sum()\n",
        "    plt.bar(x, sum)\n",
        "  \n",
        "  plt.ylabel = y_axis # Neither label appears, can't figure out why\n",
        "  plt.xlabel = x_axis"
      ],
      "metadata": {
        "id": "WL5oQ6TcRG7q"
      },
      "execution_count": null,
      "outputs": []
    },
    {
      "cell_type": "code",
      "source": [
        " # CNT vs season total bar graph\n",
        "bar_chart(data, \"season\",\"cnt\")\n",
        "\n",
        "# Season 3 (Fall?) has the most bike rides\n",
        "# Season 1 (Spring?) has the least bike rides"
      ],
      "metadata": {
        "id": "WrQD_Upb6aCG",
        "colab": {
          "base_uri": "https://localhost:8080/",
          "height": 276
        },
        "outputId": "56ec3808-b320-43c8-f6b5-b142077546d3"
      },
      "execution_count": null,
      "outputs": [
        {
          "output_type": "display_data",
          "data": {
            "text/plain": [
              "<Figure size 432x288 with 1 Axes>"
            ],
            "image/png": "[encoded data removed]"
          },
          "metadata": {
            "needs_background": "light"
          }
        }
      ]
    },
    {
      "cell_type": "code",
      "source": [
        " # Working day vs count bar graph\n",
        " # 1 is a work day, 0 isn't\n",
        "bar_chart(data, \"workingday\", \"cnt\")\n",
        "\n",
        "# A majority of bike rides are on working days"
      ],
      "metadata": {
        "id": "hx7LgVUmnlpM",
        "colab": {
          "base_uri": "https://localhost:8080/",
          "height": 276
        },
        "outputId": "f58be976-7124-43ca-8f22-f0f9aa1f283e"
      },
      "execution_count": null,
      "outputs": [
        {
          "output_type": "display_data",
          "data": {
            "text/plain": [
              "<Figure size 432x288 with 1 Axes>"
            ],
            "image/png": "[encoded data removed]"
          },
          "metadata": {
            "needs_background": "light"
          }
        }
      ]
    },
    {
      "cell_type": "code",
      "source": [
        " # Month vs count total bar graph\n",
        "bar_chart(data, \"mnth\", \"cnt\")\n",
        "\n",
        "# Most bike rides are in the summer (the middle of\n",
        "# the year), before steeply dropping in october to\n",
        "# november"
      ],
      "metadata": {
        "id": "LlSDJevIv5S9",
        "colab": {
          "base_uri": "https://localhost:8080/",
          "height": 265
        },
        "outputId": "2c38604f-cffe-4724-e0e5-c6d30a6acd25"
      },
      "execution_count": null,
      "outputs": [
        {
          "output_type": "display_data",
          "data": {
            "text/plain": [
              "<Figure size 432x288 with 1 Axes>"
            ],
            "image/png": "[encoded data removed]"
          },
          "metadata": {
            "needs_background": "light"
          }
        }
      ]
    },
    {
      "cell_type": "code",
      "source": [
        "def month_to_season(month):\n",
        "  return np.ceil(month / 3)\n",
        "\n",
        "#for x in range(1, 13):\n",
        "#  print(month_to_season(x))"
      ],
      "metadata": {
        "id": "cZh83BqDwdbR"
      },
      "execution_count": null,
      "outputs": []
    },
    {
      "cell_type": "code",
      "source": [
        " # Weather vs count total bar graph\n",
        "bar_chart(data, \"weathersit\", \"cnt\")\n",
        "\n",
        "# No clue what each value means"
      ],
      "metadata": {
        "id": "l_OoH6OFw42e",
        "colab": {
          "base_uri": "https://localhost:8080/",
          "height": 276
        },
        "outputId": "d5a94f0b-f336-4388-ae5f-914411bdce24"
      },
      "execution_count": null,
      "outputs": [
        {
          "output_type": "display_data",
          "data": {
            "text/plain": [
              "<Figure size 432x288 with 1 Axes>"
            ],
            "image/png": "[encoded data removed]"
          },
          "metadata": {
            "needs_background": "light"
          }
        }
      ]
    },
    {
      "cell_type": "code",
      "source": [
        "# Weather and season vs count\n",
        "ax = sns.pointplot(x=\"weathersit\", y=\"cnt\", hue=\"season\", data=data)"
      ],
      "metadata": {
        "id": "N0B2-FyOxj2p",
        "colab": {
          "base_uri": "https://localhost:8080/",
          "height": 279
        },
        "outputId": "408d0bc0-8e13-405a-b065-b0bf546bc839"
      },
      "execution_count": null,
      "outputs": [
        {
          "output_type": "display_data",
          "data": {
            "text/plain": [
              "<Figure size 432x288 with 1 Axes>"
            ],
            "image/png": "[encoded data removed]"
          },
          "metadata": {
            "needs_background": "light"
          }
        }
      ]
    },
    {
      "cell_type": "code",
      "source": [
        " # Hour vs count bar graph\n",
        "bar_chart(data, \"hr\", \"cnt\")\n",
        "\n",
        "# In the morning bikes peak at 8 A.M., anad in the afternoon peak at 5 and 6 P.M."
      ],
      "metadata": {
        "id": "DIv02AA-1GLo",
        "colab": {
          "base_uri": "https://localhost:8080/",
          "height": 267
        },
        "outputId": "a36de417-73f6-402e-c330-889bf6e33b13"
      },
      "execution_count": null,
      "outputs": [
        {
          "output_type": "display_data",
          "data": {
            "text/plain": [
              "<Figure size 432x288 with 1 Axes>"
            ],
            "image/png": "[encoded data removed]"
          },
          "metadata": {
            "needs_background": "light"
          }
        }
      ]
    },
    {
      "cell_type": "code",
      "source": [
        " # Hour vs count on weekends/holidays bar graph\n",
        "no_work_data = data[data[\"workingday\"]==0]\n",
        "bar_chart(no_work_data, \"hr\", \"cnt\")\n",
        "\n",
        "# Without workdays, bike rides fluctuate smoothly, peaking afternoon"
      ],
      "metadata": {
        "id": "CPqRW6Duy35x",
        "colab": {
          "base_uri": "https://localhost:8080/",
          "height": 265
        },
        "outputId": "a9451e60-d105-4e77-afef-f6b10f547dde"
      },
      "execution_count": null,
      "outputs": [
        {
          "output_type": "display_data",
          "data": {
            "text/plain": [
              "<Figure size 432x288 with 1 Axes>"
            ],
            "image/png": "[encoded data removed]"
          },
          "metadata": {
            "needs_background": "light"
          }
        }
      ]
    },
    {
      "cell_type": "markdown",
      "source": [
        "# Part 2: Data Preparation"
      ],
      "metadata": {
        "id": "jnLEO6wqfMWD"
      }
    },
    {
      "cell_type": "code",
      "source": [
        "# Show correlation between variables\n",
        "corr_matrix = data.corr()\n",
        "\n",
        "plt.figure(figsize=(16,16))\n",
        "ax= sns.heatmap(corr_matrix, annot=True)\n",
        "plt.show()"
      ],
      "metadata": {
        "id": "h1NyRHn22ofB",
        "colab": {
          "base_uri": "https://localhost:8080/",
          "height": 912
        },
        "outputId": "c785fddb-0b12-44e4-96e0-d811c4cac391"
      },
      "execution_count": null,
      "outputs": [
        {
          "output_type": "display_data",
          "data": {
            "text/plain": [
              "<Figure size 1152x1152 with 2 Axes>"
            ],
            "image/png": "[encoded data removed]"
          },
          "metadata": {
            "needs_background": "light"
          }
        }
      ]
    },
    {
      "cell_type": "code",
      "source": [
        "# Data already scaled?\n",
        "scalar = StandardScaler()\n",
        "scalar.fit(data)\n",
        "scalar.transform(data)"
      ],
      "metadata": {
        "id": "fbFEJhETUfld",
        "colab": {
          "base_uri": "https://localhost:8080/"
        },
        "outputId": "e102f4b1-bd68-4212-e147-bbf9c0ce3e9d"
      },
      "execution_count": null,
      "outputs": [
        {
          "output_type": "execute_result",
          "data": {
            "text/plain": [
              "array([[-1.73195115, -1.3566343 , -1.0051343 , ..., -0.66275506,\n",
              "        -0.93018925, -0.95633924],\n",
              "       [-1.73175182, -1.3566343 , -1.0051343 , ..., -0.56134262,\n",
              "        -0.80465484, -0.82402209],\n",
              "       [-1.73155249, -1.3566343 , -1.0051343 , ..., -0.62219008,\n",
              "        -0.83769021, -0.8681278 ],\n",
              "       ...,\n",
              "       [ 1.73155249, -1.3566343 ,  0.99489192, ..., -0.58162511,\n",
              "        -0.46769408, -0.54836135],\n",
              "       [ 1.73175182, -1.3566343 ,  0.99489192, ..., -0.45993017,\n",
              "        -0.69894166, -0.70824458],\n",
              "       [ 1.73195115, -1.3566343 ,  0.99489192, ..., -0.48021266,\n",
              "        -0.77161947, -0.77440315]])"
            ]
          },
          "metadata": {},
          "execution_count": 19
        }
      ]
    },
    {
      "cell_type": "code",
      "source": [
        "# Drop columns\n",
        "print(data)\n",
        "data = data.drop(columns=[\"instant\", \"casual\", \"registered\"])"
      ],
      "metadata": {
        "id": "vhHXyMnuWslD",
        "colab": {
          "base_uri": "https://localhost:8080/"
        },
        "outputId": "8172a540-0032-4de9-d8c3-c235a8972468"
      },
      "execution_count": null,
      "outputs": [
        {
          "output_type": "stream",
          "name": "stdout",
          "text": [
            "       instant  season  yr  mnth  hr  holiday  weekday  workingday  \\\n",
            "0            1       1   0     1   0        0        6           0   \n",
            "1            2       1   0     1   1        0        6           0   \n",
            "2            3       1   0     1   2        0        6           0   \n",
            "3            4       1   0     1   3        0        6           0   \n",
            "4            5       1   0     1   4        0        6           0   \n",
            "...        ...     ...  ..   ...  ..      ...      ...         ...   \n",
            "17374    17375       1   1    12  19        0        1           1   \n",
            "17375    17376       1   1    12  20        0        1           1   \n",
            "17376    17377       1   1    12  21        0        1           1   \n",
            "17377    17378       1   1    12  22        0        1           1   \n",
            "17378    17379       1   1    12  23        0        1           1   \n",
            "\n",
            "       weathersit  temp   atemp   hum  windspeed  casual  registered  cnt  \n",
            "0               1  0.24  0.2879  0.81     0.0000       3          13   16  \n",
            "1               1  0.22  0.2727  0.80     0.0000       8          32   40  \n",
            "2               1  0.22  0.2727  0.80     0.0000       5          27   32  \n",
            "3               1  0.24  0.2879  0.75     0.0000       3          10   13  \n",
            "4               1  0.24  0.2879  0.75     0.0000       0           1    1  \n",
            "...           ...   ...     ...   ...        ...     ...         ...  ...  \n",
            "17374           2  0.26  0.2576  0.60     0.1642      11         108  119  \n",
            "17375           2  0.26  0.2576  0.60     0.1642       8          81   89  \n",
            "17376           1  0.26  0.2576  0.60     0.1642       7          83   90  \n",
            "17377           1  0.26  0.2727  0.56     0.1343      13          48   61  \n",
            "17378           1  0.26  0.2727  0.65     0.1343      12          37   49  \n",
            "\n",
            "[17379 rows x 16 columns]\n"
          ]
        }
      ]
    },
    {
      "cell_type": "code",
      "source": [
        "ax = data[\"cnt\"].hist()\n",
        "# This distribution is skewed right"
      ],
      "metadata": {
        "id": "utSA-ps6gFar",
        "colab": {
          "base_uri": "https://localhost:8080/",
          "height": 265
        },
        "outputId": "584ab58a-f844-4bc4-8a4b-8032d9e01a6e"
      },
      "execution_count": null,
      "outputs": [
        {
          "output_type": "display_data",
          "data": {
            "text/plain": [
              "<Figure size 432x288 with 1 Axes>"
            ],
            "image/png": "[encoded data removed]"
          },
          "metadata": {
            "needs_background": "light"
          }
        }
      ]
    },
    {
      "cell_type": "code",
      "source": [
        "# Test/train split\n",
        "X = data\n",
        "y = X.pop(\"cnt\")\n",
        "\n",
        "X_train, X_test, y_train, y_test =  train_test_split(X, y, test_size=1/3, random_state=42)"
      ],
      "metadata": {
        "id": "nyycJ5R_gW5t"
      },
      "execution_count": null,
      "outputs": []
    },
    {
      "cell_type": "code",
      "source": [
        "# Train linear regression\n",
        "lin_reg = LinearRegression().fit(X_train ,y_train)\n",
        "lin_predictions = lin_reg.predict(X_train)"
      ],
      "metadata": {
        "id": "oN-Gys_7jTcM"
      },
      "execution_count": null,
      "outputs": []
    },
    {
      "cell_type": "code",
      "source": [
        "# Print statistics\n",
        "r2 = r2_score(y_train, lin_predictions)\n",
        "print(\"r2:\", r2)\n",
        "\n",
        "MSE = mean_squared_error(y_train, lin_predictions)\n",
        "print(\"MSE:\", MSE)\n",
        "\n",
        "RMSE = np.sqrt(MSE)\n",
        "print(\"RMSE:\", RMSE)"
      ],
      "metadata": {
        "id": "quq3W_Z7jnMd",
        "colab": {
          "base_uri": "https://localhost:8080/"
        },
        "outputId": "2fdd372a-d54c-4ea3-e4a3-3233e2c4bfa3"
      },
      "execution_count": null,
      "outputs": [
        {
          "output_type": "stream",
          "name": "stdout",
          "text": [
            "r2: 0.3876880245874115\n",
            "MSE: 20462.78974011677\n",
            "RMSE: 143.04820774870535\n"
          ]
        }
      ]
    },
    {
      "cell_type": "markdown",
      "source": [
        "# Part 3: Model Training"
      ],
      "metadata": {
        "id": "N3hMpaG1fPPv"
      }
    },
    {
      "cell_type": "code",
      "source": [
        "# Convert categorical variables into dummy variables\n",
        "encoded_data = pd.get_dummies(data=data, columns=[\"season\", \"yr\", \"mnth\", \"hr\", \"weekday\", \"weathersit\"])\n",
        "\n",
        "X_train, X_test, y_train, y_test = train_test_split(encoded_data, y, test_size=1/3, random_state=42)"
      ],
      "metadata": {
        "id": "zI1TQ0KNhm3q"
      },
      "execution_count": null,
      "outputs": []
    },
    {
      "cell_type": "code",
      "source": [
        "# Test several different models and compare them\n",
        "models = [\n",
        "    LinearRegression(), \n",
        "    DecisionTreeRegressor(random_state=0), \n",
        "    RandomForestRegressor(random_state=0, n_estimators=30), \n",
        "    SGDRegressor(max_iter=1000, tol=1e-3), \n",
        "    linear_model.Lasso(alpha=0.1), \n",
        "    ElasticNet(random_state=0), \n",
        "    Ridge(alpha=0.5), \n",
        "    BaggingRegressor()]\n",
        "\n",
        "table = pd.DataFrame(columns=[\"Model\", \"r2 coefficient\", \"MSE\", \"RMSE\"])"
      ],
      "metadata": {
        "id": "O0JsSNsnzV_2"
      },
      "execution_count": null,
      "outputs": []
    },
    {
      "cell_type": "code",
      "source": [
        "for model in models:\n",
        "  model.fit(X_train, y_train)\n",
        "  predictions = model.predict(X_train)\n",
        "\n",
        "  r2 = r2_score(y_train, predictions)\n",
        "  MSE = mean_squared_error(y_train, predictions)\n",
        "  RMSE = np.sqrt(MSE)\n",
        "\n",
        "  table.loc[len(table.index)] = [model, r2, MSE, RMSE]"
      ],
      "metadata": {
        "id": "YKEwGQDe2iCR"
      },
      "execution_count": null,
      "outputs": []
    },
    {
      "cell_type": "code",
      "source": [
        "# Show table\n",
        "print(tabulate(table, headers='keys', tablefmt='psql'))"
      ],
      "metadata": {
        "id": "TDuyixr82jWk",
        "colab": {
          "base_uri": "https://localhost:8080/"
        },
        "outputId": "2a55d073-69dc-4eae-f445-14dd23344807"
      },
      "execution_count": null,
      "outputs": [
        {
          "output_type": "stream",
          "name": "stdout",
          "text": [
            "+----+--------------------------------------------------------+------------------+--------------+------------+\n",
            "|    | Model                                                  |   r2 coefficient |          MSE |       RMSE |\n",
            "|----+--------------------------------------------------------+------------------+--------------+------------|\n",
            "|  0 | LinearRegression()                                     |         0.688702 | 10403.2      | 101.996    |\n",
            "|  1 | DecisionTreeRegressor(random_state=0)                  |         0.999996 |     0.119282 |   0.345372 |\n",
            "|  2 | RandomForestRegressor(n_estimators=30, random_state=0) |         0.986387 |   454.948    |  21.3295   |\n",
            "|  3 | SGDRegressor()                                         |         0.688469 | 10411        | 102.034    |\n",
            "|  4 | Lasso(alpha=0.1)                                       |         0.688558 | 10408        | 102.02     |\n",
            "|  5 | ElasticNet(random_state=0)                             |         0.198938 | 26770.6      | 163.617    |\n",
            "|  6 | Ridge(alpha=0.5)                                       |         0.688956 | 10394.8      | 101.955    |\n",
            "|  7 | BaggingRegressor()                                     |         0.98345  |   553.077    |  23.5176   |\n",
            "+----+--------------------------------------------------------+------------------+--------------+------------+\n"
          ]
        }
      ]
    },
    {
      "cell_type": "markdown",
      "source": [
        "# Part 4: Model Tuning"
      ],
      "metadata": {
        "id": "floBsU0pfTxc"
      }
    },
    {
      "cell_type": "code",
      "source": [
        "# Get the three models with the lowest mean squared error\n",
        "table = table.sort_values(\"MSE\")[:3]"
      ],
      "metadata": {
        "id": "SSo-HEF1Nfrp"
      },
      "execution_count": null,
      "outputs": []
    },
    {
      "cell_type": "code",
      "source": [
        "# Implement cross-validation on top 3 models\n",
        "cross_val_scores = []\n",
        "\n",
        "for model in table[\"Model\"]:\n",
        "  cross_val = cross_val_score(model, X_train, y_train)\n",
        "  cross_val_scores.append(cross_val[4])"
      ],
      "metadata": {
        "id": "Y4i0kmlzUxzi"
      },
      "execution_count": null,
      "outputs": []
    },
    {
      "cell_type": "code",
      "source": [
        "table[\"Cross Validation Score\"] = cross_val_scores\n",
        "print(tabulate(table, headers='keys', tablefmt='psql'))"
      ],
      "metadata": {
        "id": "B2D4ImP6WcOx",
        "colab": {
          "base_uri": "https://localhost:8080/"
        },
        "outputId": "a09cec85-1d9b-4190-c439-dc0a8dd72215"
      },
      "execution_count": null,
      "outputs": [
        {
          "output_type": "stream",
          "name": "stdout",
          "text": [
            "+----+--------------------------------------------------------+------------------+------------+-----------+--------------------------+\n",
            "|    | Model                                                  |   r2 coefficient |        MSE |      RMSE |   Cross Validation Score |\n",
            "|----+--------------------------------------------------------+------------------+------------+-----------+--------------------------|\n",
            "|  1 | DecisionTreeRegressor(random_state=0)                  |         0.999996 |   0.119282 |  0.345372 |                 0.828438 |\n",
            "|  2 | RandomForestRegressor(n_estimators=30, random_state=0) |         0.986387 | 454.948    | 21.3295   |                 0.91112  |\n",
            "|  7 | BaggingRegressor()                                     |         0.98345  | 553.077    | 23.5176   |                 0.905694 |\n",
            "+----+--------------------------------------------------------+------------------+------------+-----------+--------------------------+\n"
          ]
        }
      ]
    },
    {
      "cell_type": "code",
      "source": [
        "# Find model with the highest cross-validation score\n",
        "table = table.sort_values(\"Cross Validation Score\", ascending=False)[:1]\n",
        "print(tabulate(table, headers='keys', tablefmt='psql'))"
      ],
      "metadata": {
        "id": "lhxIP6cPVUEt",
        "colab": {
          "base_uri": "https://localhost:8080/"
        },
        "outputId": "ca062dee-629b-4258-e201-8e13e92adfe1"
      },
      "execution_count": null,
      "outputs": [
        {
          "output_type": "stream",
          "name": "stdout",
          "text": [
            "+----+--------------------------------------------------------+------------------+---------+---------+--------------------------+\n",
            "|    | Model                                                  |   r2 coefficient |     MSE |    RMSE |   Cross Validation Score |\n",
            "|----+--------------------------------------------------------+------------------+---------+---------+--------------------------|\n",
            "|  2 | RandomForestRegressor(n_estimators=30, random_state=0) |         0.986387 | 454.948 | 21.3295 |                  0.91112 |\n",
            "+----+--------------------------------------------------------+------------------+---------+---------+--------------------------+\n"
          ]
        }
      ]
    },
    {
      "cell_type": "code",
      "source": [
        "print(table[\"Model\"].iloc[0])"
      ],
      "metadata": {
        "id": "-UMDa2obBLxQ",
        "colab": {
          "base_uri": "https://localhost:8080/"
        },
        "outputId": "9983c34c-c4ff-4434-c72c-bf2007b05d95"
      },
      "execution_count": null,
      "outputs": [
        {
          "output_type": "stream",
          "name": "stdout",
          "text": [
            "RandomForestRegressor(n_estimators=30, random_state=0)\n"
          ]
        }
      ]
    },
    {
      "cell_type": "code",
      "source": [
        "# Randomize search cv with the highest cv score model\n",
        "param_distribs = {\n",
        "        'bootstrap': [True, False],\n",
        "        'max_depth': range(10, 120, 10), # 10 - 110\n",
        "        'max_features': [\"auto\", \"sqrt\"],\n",
        "        'min_samples_split': [2,5,10],\n",
        "        'min_samples_leaf': [1,2,4],\n",
        "        'n_estimators': range(20, 220, 20) # 20 - 200\n",
        "    }\n",
        "\n",
        "rnd_search = RandomizedSearchCV(table[\"Model\"].iloc[0], param_distribs, n_jobs=3, n_iter=20, cv=3)"
      ],
      "metadata": {
        "id": "K_5wrplYYgMu"
      },
      "execution_count": null,
      "outputs": []
    },
    {
      "cell_type": "code",
      "source": [
        "rnd_search.fit(X_train, y_train)"
      ],
      "metadata": {
        "id": "Vu8eJObAGEXa",
        "colab": {
          "base_uri": "https://localhost:8080/"
        },
        "outputId": "6c9e8f2c-ae39-41ce-a401-fa66d80eb8cf"
      },
      "execution_count": null,
      "outputs": [
        {
          "output_type": "execute_result",
          "data": {
            "text/plain": [
              "RandomizedSearchCV(cv=3,\n",
              "                   estimator=RandomForestRegressor(n_estimators=30,\n",
              "                                                   random_state=0),\n",
              "                   n_iter=20, n_jobs=3,\n",
              "                   param_distributions={'bootstrap': [True, False],\n",
              "                                        'max_depth': range(10, 120, 10),\n",
              "                                        'max_features': ['auto', 'sqrt'],\n",
              "                                        'min_samples_leaf': [1, 2, 4],\n",
              "                                        'min_samples_split': [2, 5, 10],\n",
              "                                        'n_estimators': range(20, 220, 20)})"
            ]
          },
          "metadata": {},
          "execution_count": 36
        }
      ]
    },
    {
      "cell_type": "code",
      "source": [
        "rnd_search.best_params_"
      ],
      "metadata": {
        "id": "EsGVea66GFR3",
        "colab": {
          "base_uri": "https://localhost:8080/"
        },
        "outputId": "07056681-4d14-4a2f-f851-2f2aed50978f"
      },
      "execution_count": null,
      "outputs": [
        {
          "output_type": "execute_result",
          "data": {
            "text/plain": [
              "{'n_estimators': 160,\n",
              " 'min_samples_split': 5,\n",
              " 'min_samples_leaf': 2,\n",
              " 'max_features': 'auto',\n",
              " 'max_depth': 100,\n",
              " 'bootstrap': True}"
            ]
          },
          "metadata": {},
          "execution_count": 37
        }
      ]
    },
    {
      "cell_type": "code",
      "source": [
        "# Create a model using the results of the search\n",
        "final_model = rnd_search.best_estimator_\n",
        "final_predictions = final_model.predict(X_train)"
      ],
      "metadata": {
        "id": "WlgljVilKRA-"
      },
      "execution_count": null,
      "outputs": []
    },
    {
      "cell_type": "code",
      "source": [
        "final_r2 = r2_score(y_train, final_predictions)\n",
        "print(\"r2:\", final_r2)\n",
        "\n",
        "final_MSE = mean_squared_error(y_train, final_predictions)\n",
        "print(\"MSE:\", final_MSE)\n",
        "\n",
        "final_RMSE = np.sqrt(final_MSE)\n",
        "print(\"RMSE:\", final_RMSE)\n",
        "\n",
        "print(\"Cross Validation Score:\", cross_val_score(final_model, X_train, y_train))"
      ],
      "metadata": {
        "id": "BGq5Bl0lKi9X",
        "colab": {
          "base_uri": "https://localhost:8080/"
        },
        "outputId": "1ffa6db2-4207-4ae4-d146-f05965a6514c"
      },
      "execution_count": null,
      "outputs": [
        {
          "output_type": "stream",
          "name": "stdout",
          "text": [
            "r2: 0.9749864738280627\n",
            "MSE: 835.924409889859\n",
            "RMSE: 28.912357390739672\n",
            "Cross Validation Score: [0.89425593 0.89533281 0.90485213 0.90788698 0.91000529]\n"
          ]
        }
      ]
    },
    {
      "cell_type": "code",
      "source": [
        "# Evluate on test set\n",
        "print(\"Test r2:\", r2_score(y_test, final_model.predict(X_test)))\n",
        "print(\"Test RMSE:\", mean_squared_error(y_test, final_model.predict(X_test), squared=False))"
      ],
      "metadata": {
        "id": "vUufSvC_K6Fg",
        "colab": {
          "base_uri": "https://localhost:8080/"
        },
        "outputId": "84c4c58a-81f6-41fe-846f-7495e4df650a"
      },
      "execution_count": null,
      "outputs": [
        {
          "output_type": "stream",
          "name": "stdout",
          "text": [
            "Test r2: 0.9193108457427535\n",
            "Test RMSE: 50.68753625392082\n"
          ]
        }
      ]
    },
    {
      "cell_type": "code",
      "source": [],
      "metadata": {
        "id": "LWS_r_ORNF91"
      },
      "execution_count": null,
      "outputs": []
    }
  ]
}
