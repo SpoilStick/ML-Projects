{
  "nbformat": 4,
  "nbformat_minor": 0,
  "metadata": {
    "colab": {
      "provenance": [],
      "collapsed_sections": [],
      "authorship_tag": "ABX9TyOddHCPWcp9PjQ93ZICnthj",
      "include_colab_link": true
    },
    "kernelspec": {
      "name": "python3",
      "display_name": "Python 3"
    },
    "language_info": {
      "name": "python"
    }
  },
  "cells": [
    {
      "cell_type": "markdown",
      "metadata": {
        "id": "view-in-github",
        "colab_type": "text"
      },
      "source": [
        "<a href=\"https://colab.research.google.com/github/SpoilStick/ML-Projects/blob/main/ML_Project_2.ipynb\" target=\"_parent\"><img src=\"https://colab.research.google.com/assets/colab-badge.svg\" alt=\"Open In Colab\"/></a>"
      ]
    },
    {
      "cell_type": "code",
      "execution_count": 1,
      "metadata": {
        "id": "Zk2sEPrp0Y-A"
      },
      "outputs": [],
      "source": [
        "import matplotlib as mpl\n",
        "import matplotlib.pyplot as plt\n",
        "import numpy as np\n",
        "import pandas as pd\n",
        "import seaborn as sns\n",
        "from sklearn import datasets\n",
        "from sklearn.linear_model import LinearRegression\n",
        "from sklearn.metrics import mean_squared_error\n",
        "from pandas.plotting import scatter_matrix\n",
        "from sklearn.model_selection import train_test_split\n",
        "from sklearn.model_selection import cross_val_score\n",
        "from sklearn.ensemble import RandomForestRegressor\n",
        "from sklearn.model_selection import GridSearchCV"
      ]
    },
    {
      "cell_type": "markdown",
      "source": [
        "# Part 1: Data Exploration\n",
        "---"
      ],
      "metadata": {
        "id": "MIV_2veNGGgz"
      }
    },
    {
      "cell_type": "code",
      "source": [
        "# Load dataset\n",
        "diabetes = datasets.load_diabetes()"
      ],
      "metadata": {
        "id": "tp2_9EhL0dqU"
      },
      "execution_count": 2,
      "outputs": []
    },
    {
      "cell_type": "code",
      "source": [
        "print(diabetes.DESCR)"
      ],
      "metadata": {
        "id": "eeZMpqoi0hEL",
        "colab": {
          "base_uri": "https://localhost:8080/"
        },
        "outputId": "afb0acd0-7c59-45ca-a8be-54fc669d2df0"
      },
      "execution_count": 3,
      "outputs": [
        {
          "output_type": "stream",
          "name": "stdout",
          "text": [
            ".. _diabetes_dataset:\n",
            "\n",
            "Diabetes dataset\n",
            "----------------\n",
            "\n",
            "Ten baseline variables, age, sex, body mass index, average blood\n",
            "pressure, and six blood serum measurements were obtained for each of n =\n",
            "442 diabetes patients, as well as the response of interest, a\n",
            "quantitative measure of disease progression one year after baseline.\n",
            "\n",
            "**Data Set Characteristics:**\n",
            "\n",
            "  :Number of Instances: 442\n",
            "\n",
            "  :Number of Attributes: First 10 columns are numeric predictive values\n",
            "\n",
            "  :Target: Column 11 is a quantitative measure of disease progression one year after baseline\n",
            "\n",
            "  :Attribute Information:\n",
            "      - age     age in years\n",
            "      - sex\n",
            "      - bmi     body mass index\n",
            "      - bp      average blood pressure\n",
            "      - s1      tc, total serum cholesterol\n",
            "      - s2      ldl, low-density lipoproteins\n",
            "      - s3      hdl, high-density lipoproteins\n",
            "      - s4      tch, total cholesterol / HDL\n",
            "      - s5      ltg, possibly log of serum triglycerides level\n",
            "      - s6      glu, blood sugar level\n",
            "\n",
            "Note: Each of these 10 feature variables have been mean centered and scaled by the standard deviation times `n_samples` (i.e. the sum of squares of each column totals 1).\n",
            "\n",
            "Source URL:\n",
            "https://www4.stat.ncsu.edu/~boos/var.select/diabetes.html\n",
            "\n",
            "For more information see:\n",
            "Bradley Efron, Trevor Hastie, Iain Johnstone and Robert Tibshirani (2004) \"Least Angle Regression,\" Annals of Statistics (with discussion), 407-499.\n",
            "(https://web.stanford.edu/~hastie/Papers/LARS/LeastAngle_2002.pdf)\n"
          ]
        }
      ]
    },
    {
      "cell_type": "code",
      "source": [
        "data = pd.DataFrame(diabetes.data)\n",
        "features = diabetes.feature_names\n",
        "data.columns = features\n",
        "\n",
        "target = diabetes.target\n",
        "\n",
        "data['target'] = target"
      ],
      "metadata": {
        "id": "T5c1Bu9V0idn"
      },
      "execution_count": 4,
      "outputs": []
    },
    {
      "cell_type": "code",
      "source": [
        "data.info()"
      ],
      "metadata": {
        "id": "0nLI2XJvm0Q7",
        "colab": {
          "base_uri": "https://localhost:8080/"
        },
        "outputId": "60085154-1b6a-4547-c00c-063d7230b458"
      },
      "execution_count": 5,
      "outputs": [
        {
          "output_type": "stream",
          "name": "stdout",
          "text": [
            "<class 'pandas.core.frame.DataFrame'>\n",
            "RangeIndex: 442 entries, 0 to 441\n",
            "Data columns (total 11 columns):\n",
            " #   Column  Non-Null Count  Dtype  \n",
            "---  ------  --------------  -----  \n",
            " 0   age     442 non-null    float64\n",
            " 1   sex     442 non-null    float64\n",
            " 2   bmi     442 non-null    float64\n",
            " 3   bp      442 non-null    float64\n",
            " 4   s1      442 non-null    float64\n",
            " 5   s2      442 non-null    float64\n",
            " 6   s3      442 non-null    float64\n",
            " 7   s4      442 non-null    float64\n",
            " 8   s5      442 non-null    float64\n",
            " 9   s6      442 non-null    float64\n",
            " 10  target  442 non-null    float64\n",
            "dtypes: float64(11)\n",
            "memory usage: 38.1 KB\n"
          ]
        }
      ]
    },
    {
      "cell_type": "code",
      "source": [
        "data.head()"
      ],
      "metadata": {
        "id": "We6dpn5_2UCV",
        "colab": {
          "base_uri": "https://localhost:8080/",
          "height": 206
        },
        "outputId": "86853406-6f04-43fe-d641-5b0e2ad07458"
      },
      "execution_count": 6,
      "outputs": [
        {
          "output_type": "execute_result",
          "data": {
            "text/plain": [
              "        age       sex       bmi        bp        s1        s2        s3  \\\n",
              "0  0.038076  0.050680  0.061696  0.021872 -0.044223 -0.034821 -0.043401   \n",
              "1 -0.001882 -0.044642 -0.051474 -0.026328 -0.008449 -0.019163  0.074412   \n",
              "2  0.085299  0.050680  0.044451 -0.005671 -0.045599 -0.034194 -0.032356   \n",
              "3 -0.089063 -0.044642 -0.011595 -0.036656  0.012191  0.024991 -0.036038   \n",
              "4  0.005383 -0.044642 -0.036385  0.021872  0.003935  0.015596  0.008142   \n",
              "\n",
              "         s4        s5        s6  target  \n",
              "0 -0.002592  0.019908 -0.017646   151.0  \n",
              "1 -0.039493 -0.068330 -0.092204    75.0  \n",
              "2 -0.002592  0.002864 -0.025930   141.0  \n",
              "3  0.034309  0.022692 -0.009362   206.0  \n",
              "4 -0.002592 -0.031991 -0.046641   135.0  "
            ],
            "text/html": [
              "\n",
              "  <div id=\"df-76b845a4-4b05-4416-bce3-bc790157d7ea\">\n",
              "    <div class=\"colab-df-container\">\n",
              "      <div>\n",
              "<style scoped>\n",
              "    .dataframe tbody tr th:only-of-type {\n",
              "        vertical-align: middle;\n",
              "    }\n",
              "\n",
              "    .dataframe tbody tr th {\n",
              "        vertical-align: top;\n",
              "    }\n",
              "\n",
              "    .dataframe thead th {\n",
              "        text-align: right;\n",
              "    }\n",
              "</style>\n",
              "<table border=\"1\" class=\"dataframe\">\n",
              "  <thead>\n",
              "    <tr style=\"text-align: right;\">\n",
              "      <th></th>\n",
              "      <th>age</th>\n",
              "      <th>sex</th>\n",
              "      <th>bmi</th>\n",
              "      <th>bp</th>\n",
              "      <th>s1</th>\n",
              "      <th>s2</th>\n",
              "      <th>s3</th>\n",
              "      <th>s4</th>\n",
              "      <th>s5</th>\n",
              "      <th>s6</th>\n",
              "      <th>target</th>\n",
              "    </tr>\n",
              "  </thead>\n",
              "  <tbody>\n",
              "    <tr>\n",
              "      <th>0</th>\n",
              "      <td>0.038076</td>\n",
              "      <td>0.050680</td>\n",
              "      <td>0.061696</td>\n",
              "      <td>0.021872</td>\n",
              "      <td>-0.044223</td>\n",
              "      <td>-0.034821</td>\n",
              "      <td>-0.043401</td>\n",
              "      <td>-0.002592</td>\n",
              "      <td>0.019908</td>\n",
              "      <td>-0.017646</td>\n",
              "      <td>151.0</td>\n",
              "    </tr>\n",
              "    <tr>\n",
              "      <th>1</th>\n",
              "      <td>-0.001882</td>\n",
              "      <td>-0.044642</td>\n",
              "      <td>-0.051474</td>\n",
              "      <td>-0.026328</td>\n",
              "      <td>-0.008449</td>\n",
              "      <td>-0.019163</td>\n",
              "      <td>0.074412</td>\n",
              "      <td>-0.039493</td>\n",
              "      <td>-0.068330</td>\n",
              "      <td>-0.092204</td>\n",
              "      <td>75.0</td>\n",
              "    </tr>\n",
              "    <tr>\n",
              "      <th>2</th>\n",
              "      <td>0.085299</td>\n",
              "      <td>0.050680</td>\n",
              "      <td>0.044451</td>\n",
              "      <td>-0.005671</td>\n",
              "      <td>-0.045599</td>\n",
              "      <td>-0.034194</td>\n",
              "      <td>-0.032356</td>\n",
              "      <td>-0.002592</td>\n",
              "      <td>0.002864</td>\n",
              "      <td>-0.025930</td>\n",
              "      <td>141.0</td>\n",
              "    </tr>\n",
              "    <tr>\n",
              "      <th>3</th>\n",
              "      <td>-0.089063</td>\n",
              "      <td>-0.044642</td>\n",
              "      <td>-0.011595</td>\n",
              "      <td>-0.036656</td>\n",
              "      <td>0.012191</td>\n",
              "      <td>0.024991</td>\n",
              "      <td>-0.036038</td>\n",
              "      <td>0.034309</td>\n",
              "      <td>0.022692</td>\n",
              "      <td>-0.009362</td>\n",
              "      <td>206.0</td>\n",
              "    </tr>\n",
              "    <tr>\n",
              "      <th>4</th>\n",
              "      <td>0.005383</td>\n",
              "      <td>-0.044642</td>\n",
              "      <td>-0.036385</td>\n",
              "      <td>0.021872</td>\n",
              "      <td>0.003935</td>\n",
              "      <td>0.015596</td>\n",
              "      <td>0.008142</td>\n",
              "      <td>-0.002592</td>\n",
              "      <td>-0.031991</td>\n",
              "      <td>-0.046641</td>\n",
              "      <td>135.0</td>\n",
              "    </tr>\n",
              "  </tbody>\n",
              "</table>\n",
              "</div>\n",
              "      <button class=\"colab-df-convert\" onclick=\"convertToInteractive('df-76b845a4-4b05-4416-bce3-bc790157d7ea')\"\n",
              "              title=\"Convert this dataframe to an interactive table.\"\n",
              "              style=\"display:none;\">\n",
              "        \n",
              "  <svg xmlns=\"http://www.w3.org/2000/svg\" height=\"24px\"viewBox=\"0 0 24 24\"\n",
              "       width=\"24px\">\n",
              "    <path d=\"M0 0h24v24H0V0z\" fill=\"none\"/>\n",
              "    <path d=\"M18.56 5.44l.94 2.06.94-2.06 2.06-.94-2.06-.94-.94-2.06-.94 2.06-2.06.94zm-11 1L8.5 8.5l.94-2.06 2.06-.94-2.06-.94L8.5 2.5l-.94 2.06-2.06.94zm10 10l.94 2.06.94-2.06 2.06-.94-2.06-.94-.94-2.06-.94 2.06-2.06.94z\"/><path d=\"M17.41 7.96l-1.37-1.37c-.4-.4-.92-.59-1.43-.59-.52 0-1.04.2-1.43.59L10.3 9.45l-7.72 7.72c-.78.78-.78 2.05 0 2.83L4 21.41c.39.39.9.59 1.41.59.51 0 1.02-.2 1.41-.59l7.78-7.78 2.81-2.81c.8-.78.8-2.07 0-2.86zM5.41 20L4 18.59l7.72-7.72 1.47 1.35L5.41 20z\"/>\n",
              "  </svg>\n",
              "      </button>\n",
              "      \n",
              "  <style>\n",
              "    .colab-df-container {\n",
              "      display:flex;\n",
              "      flex-wrap:wrap;\n",
              "      gap: 12px;\n",
              "    }\n",
              "\n",
              "    .colab-df-convert {\n",
              "      background-color: #E8F0FE;\n",
              "      border: none;\n",
              "      border-radius: 50%;\n",
              "      cursor: pointer;\n",
              "      display: none;\n",
              "      fill: #1967D2;\n",
              "      height: 32px;\n",
              "      padding: 0 0 0 0;\n",
              "      width: 32px;\n",
              "    }\n",
              "\n",
              "    .colab-df-convert:hover {\n",
              "      background-color: #E2EBFA;\n",
              "      box-shadow: 0px 1px 2px rgba(60, 64, 67, 0.3), 0px 1px 3px 1px rgba(60, 64, 67, 0.15);\n",
              "      fill: #174EA6;\n",
              "    }\n",
              "\n",
              "    [theme=dark] .colab-df-convert {\n",
              "      background-color: #3B4455;\n",
              "      fill: #D2E3FC;\n",
              "    }\n",
              "\n",
              "    [theme=dark] .colab-df-convert:hover {\n",
              "      background-color: #434B5C;\n",
              "      box-shadow: 0px 1px 3px 1px rgba(0, 0, 0, 0.15);\n",
              "      filter: drop-shadow(0px 1px 2px rgba(0, 0, 0, 0.3));\n",
              "      fill: #FFFFFF;\n",
              "    }\n",
              "  </style>\n",
              "\n",
              "      <script>\n",
              "        const buttonEl =\n",
              "          document.querySelector('#df-76b845a4-4b05-4416-bce3-bc790157d7ea button.colab-df-convert');\n",
              "        buttonEl.style.display =\n",
              "          google.colab.kernel.accessAllowed ? 'block' : 'none';\n",
              "\n",
              "        async function convertToInteractive(key) {\n",
              "          const element = document.querySelector('#df-76b845a4-4b05-4416-bce3-bc790157d7ea');\n",
              "          const dataTable =\n",
              "            await google.colab.kernel.invokeFunction('convertToInteractive',\n",
              "                                                     [key], {});\n",
              "          if (!dataTable) return;\n",
              "\n",
              "          const docLinkHtml = 'Like what you see? Visit the ' +\n",
              "            '<a target=\"_blank\" href=https://colab.research.google.com/notebooks/data_table.ipynb>data table notebook</a>'\n",
              "            + ' to learn more about interactive tables.';\n",
              "          element.innerHTML = '';\n",
              "          dataTable['output_type'] = 'display_data';\n",
              "          await google.colab.output.renderOutput(dataTable, element);\n",
              "          const docLink = document.createElement('div');\n",
              "          docLink.innerHTML = docLinkHtml;\n",
              "          element.appendChild(docLink);\n",
              "        }\n",
              "      </script>\n",
              "    </div>\n",
              "  </div>\n",
              "  "
            ]
          },
          "metadata": {},
          "execution_count": 6
        }
      ]
    },
    {
      "cell_type": "code",
      "source": [
        "# Plot the data\n",
        "data.hist(bins=50, figsize=(20,15))\n",
        "plt.show()"
      ],
      "metadata": {
        "id": "KqZqR3BstPKw",
        "colab": {
          "base_uri": "https://localhost:8080/",
          "height": 879
        },
        "outputId": "2f0dafe4-d20e-4a6a-9741-e84261c695de"
      },
      "execution_count": 7,
      "outputs": [
        {
          "output_type": "display_data",
          "data": {
            "text/plain": [
              "<Figure size 1440x1080 with 12 Axes>"
            ],
            "image/png": "[encoded data removed]"
          },
          "metadata": {
            "needs_background": "light"
          }
        }
      ]
    },
    {
      "cell_type": "code",
      "source": [
        "# Split data into train and test data\n",
        "train, test =  train_test_split(data, test_size=0.2, random_state=42)\n",
        "train = pd.DataFrame(train)\n",
        "test = pd.DataFrame(test)"
      ],
      "metadata": {
        "id": "EeFElIWnt1Zu"
      },
      "execution_count": 8,
      "outputs": []
    },
    {
      "cell_type": "code",
      "source": [
        "print(\"Train:\", len(train), \"Test:\", len(test))"
      ],
      "metadata": {
        "id": "31d0Igjg57Yf",
        "colab": {
          "base_uri": "https://localhost:8080/"
        },
        "outputId": "294ee782-9242-4fda-fd15-d41314942444"
      },
      "execution_count": 9,
      "outputs": [
        {
          "output_type": "stream",
          "name": "stdout",
          "text": [
            "Train: 353 Test: 89\n"
          ]
        }
      ]
    },
    {
      "cell_type": "code",
      "source": [
        "# Show how different variables correlate\n",
        "corr_matrix = data.corr()\n",
        "corr_matrix[\"target\"].sort_values(ascending=False)"
      ],
      "metadata": {
        "id": "swKIzkJc6Hrd",
        "colab": {
          "base_uri": "https://localhost:8080/"
        },
        "outputId": "3173c992-baa4-4a48-d4ef-44b98ee47e51"
      },
      "execution_count": 10,
      "outputs": [
        {
          "output_type": "execute_result",
          "data": {
            "text/plain": [
              "target    1.000000\n",
              "bmi       0.586450\n",
              "s5        0.565883\n",
              "bp        0.441484\n",
              "s4        0.430453\n",
              "s6        0.382483\n",
              "s1        0.212022\n",
              "age       0.187889\n",
              "s2        0.174054\n",
              "sex       0.043062\n",
              "s3       -0.394789\n",
              "Name: target, dtype: float64"
            ]
          },
          "metadata": {},
          "execution_count": 10
        }
      ]
    },
    {
      "cell_type": "code",
      "source": [
        "# Another way to plot correlation\n",
        "plt.figure(figsize=(10,10))\n",
        "ax= sns.heatmap(corr_matrix, annot=True)\n",
        "plt.show()\n",
        "\n",
        "sns.pairplot(data[[\"bmi\",\"s5\",\"bp\"]])"
      ],
      "metadata": {
        "id": "Kiw3XBoMnSNM",
        "colab": {
          "base_uri": "https://localhost:8080/",
          "height": 1000
        },
        "outputId": "676fe566-cf83-45f8-90ba-c74eda344b14"
      },
      "execution_count": 11,
      "outputs": [
        {
          "output_type": "display_data",
          "data": {
            "text/plain": [
              "<Figure size 720x720 with 2 Axes>"
            ],
            "image/png": "[encoded data removed]"
          },
          "metadata": {
            "needs_background": "light"
          }
        },
        {
          "output_type": "execute_result",
          "data": {
            "text/plain": [
              "<seaborn.axisgrid.PairGrid at 0x7fec363a7190>"
            ]
          },
          "metadata": {},
          "execution_count": 11
        },
        {
          "output_type": "display_data",
          "data": {
            "text/plain": [
              "<Figure size 540x540 with 12 Axes>"
            ],
            "image/png": "[encoded data removed]"
          },
          "metadata": {
            "needs_background": "light"
          }
        }
      ]
    },
    {
      "cell_type": "code",
      "source": [
        "y_train, y_test = train['target'], test['target']\n",
        "X_train, X_test = train.drop(columns='target'), test.drop(columns='target')"
      ],
      "metadata": {
        "id": "nZiPh5Il6tN7"
      },
      "execution_count": 12,
      "outputs": []
    },
    {
      "cell_type": "markdown",
      "source": [
        "# Part 2: Model Training\n",
        "\n",
        "---"
      ],
      "metadata": {
        "id": "UumV9dOuF9eo"
      }
    },
    {
      "cell_type": "code",
      "source": [
        "# Used to evaluate the models\n",
        "def print_scores(scores):\n",
        "  print(\"Scores:\", scores)\n",
        "  print(\"Mean:\", scores.mean())\n",
        "  print(\"Std:\", scores.std())"
      ],
      "metadata": {
        "id": "WdhpJPrSGZGx"
      },
      "execution_count": 13,
      "outputs": []
    },
    {
      "cell_type": "markdown",
      "source": [
        "**Linear Regression**"
      ],
      "metadata": {
        "id": "wfiM9ILsFxlC"
      }
    },
    {
      "cell_type": "code",
      "source": [
        "# Train linear regression\n",
        "lin_reg = LinearRegression().fit(X_train ,y_train)\n",
        "lin_predictions = lin_reg.predict(X_train)\n",
        "\n",
        "RMSE = mean_squared_error(y_train, lin_predictions, squared=False)\n",
        "print(\"RMSE:\", RMSE)\n",
        "\n",
        "# Cross-validation scores\n",
        "lin_cv_scores = cross_val_score(lin_reg, X_train, y_train)\n",
        "lin_rmse_scores = np.sqrt(lin_cv_scores)\n",
        "print_scores(lin_rmse_scores)"
      ],
      "metadata": {
        "id": "pnA1vtnf7v7q",
        "colab": {
          "base_uri": "https://localhost:8080/"
        },
        "outputId": "a847e473-4d3e-4b95-d410-5d1d2b0f3479"
      },
      "execution_count": 14,
      "outputs": [
        {
          "output_type": "stream",
          "name": "stdout",
          "text": [
            "RMSE: 53.55881425327268\n",
            "Scores: [0.73999985 0.60103283 0.71050682 0.78595842 0.46356637]\n",
            "Mean: 0.6602128592724065\n",
            "Std: 0.11565423336186727\n"
          ]
        }
      ]
    },
    {
      "cell_type": "markdown",
      "source": [
        "**Random Forest Regressor**"
      ],
      "metadata": {
        "id": "SvvuphEnF4WD"
      }
    },
    {
      "cell_type": "code",
      "source": [
        "forest_reg = RandomForestRegressor(random_state=42).fit(X_train ,y_train)\n",
        "forest_predictions = forest_reg.predict(X_train)\n",
        "\n",
        "RMSE = mean_squared_error(y_train, forest_predictions, squared=False)\n",
        "print(\"RMSE:\", RMSE)\n",
        "\n",
        "forest_cv_scores = cross_val_score(forest_reg, X_train, y_train)\n",
        "forest_rmse_scores = np.sqrt(forest_cv_scores)\n",
        "print_scores(forest_rmse_scores)"
      ],
      "metadata": {
        "id": "Wuab_Y9VEkDC",
        "colab": {
          "base_uri": "https://localhost:8080/"
        },
        "outputId": "f46435c5-6af0-4feb-be47-0e5cfd3a06d6"
      },
      "execution_count": 15,
      "outputs": [
        {
          "output_type": "stream",
          "name": "stdout",
          "text": [
            "RMSE: 21.466115310311288\n",
            "Scores: [0.71508174 0.38589453 0.63978675 0.75375804 0.56040947]\n",
            "Mean: 0.6109861060456527\n",
            "Std: 0.13059358248990394\n"
          ]
        }
      ]
    },
    {
      "cell_type": "markdown",
      "source": [
        "# Part 3: Model Tuning\n",
        "\n",
        "---\n",
        "\n"
      ],
      "metadata": {
        "id": "FHFmJCUlH1ib"
      }
    },
    {
      "cell_type": "code",
      "source": [
        "forest_reg.get_params()"
      ],
      "metadata": {
        "id": "qsiG96dtH5wD",
        "colab": {
          "base_uri": "https://localhost:8080/"
        },
        "outputId": "b336c05d-7f35-4e4a-bbec-eb65acbab85c"
      },
      "execution_count": 16,
      "outputs": [
        {
          "output_type": "execute_result",
          "data": {
            "text/plain": [
              "{'bootstrap': True,\n",
              " 'ccp_alpha': 0.0,\n",
              " 'criterion': 'squared_error',\n",
              " 'max_depth': None,\n",
              " 'max_features': 'auto',\n",
              " 'max_leaf_nodes': None,\n",
              " 'max_samples': None,\n",
              " 'min_impurity_decrease': 0.0,\n",
              " 'min_samples_leaf': 1,\n",
              " 'min_samples_split': 2,\n",
              " 'min_weight_fraction_leaf': 0.0,\n",
              " 'n_estimators': 100,\n",
              " 'n_jobs': None,\n",
              " 'oob_score': False,\n",
              " 'random_state': 42,\n",
              " 'verbose': 0,\n",
              " 'warm_start': False}"
            ]
          },
          "metadata": {},
          "execution_count": 16
        }
      ]
    },
    {
      "cell_type": "code",
      "source": [
        "# Find better parameters\n",
        "param_grid = [\n",
        "              {'n_estimators':  [3, 10, 30, 100], 'max_features': [2, 4, 6, 8]},\n",
        "              {'bootstrap': [False], 'n_estimators': [3, 10], 'max_features': [2,3,4]},\n",
        "]\n",
        "\n",
        "grid_search = GridSearchCV(forest_reg, param_grid, cv=5).fit(X_train, y_train)"
      ],
      "metadata": {
        "id": "e4Q7lEcRIbpr"
      },
      "execution_count": 17,
      "outputs": []
    },
    {
      "cell_type": "code",
      "source": [
        "grid_search.best_params_"
      ],
      "metadata": {
        "id": "k7bAAAB01UjT",
        "colab": {
          "base_uri": "https://localhost:8080/"
        },
        "outputId": "0f14ef4a-c15a-4662-b62f-6cc1e732f116"
      },
      "execution_count": 18,
      "outputs": [
        {
          "output_type": "execute_result",
          "data": {
            "text/plain": [
              "{'max_features': 4, 'n_estimators': 100}"
            ]
          },
          "metadata": {},
          "execution_count": 18
        }
      ]
    },
    {
      "cell_type": "code",
      "source": [
        "cvres = grid_search.cv_results_\n",
        "\n",
        "# Results of the grid search\n",
        "for mean_score, params in zip(cvres[\"mean_test_score\"], cvres[\"params\"]):\n",
        "    print(np.sqrt(mean_score), params)"
      ],
      "metadata": {
        "id": "8gWtnheJvKXv",
        "colab": {
          "base_uri": "https://localhost:8080/"
        },
        "outputId": "2e99c9d4-1c9a-40db-a2b3-e10046d50213"
      },
      "execution_count": 19,
      "outputs": [
        {
          "output_type": "stream",
          "name": "stdout",
          "text": [
            "0.42774210746198427 {'max_features': 2, 'n_estimators': 3}\n",
            "0.5713222805359849 {'max_features': 2, 'n_estimators': 10}\n",
            "0.6112838370829137 {'max_features': 2, 'n_estimators': 30}\n",
            "0.6345136038137259 {'max_features': 2, 'n_estimators': 100}\n",
            "0.53356426816067 {'max_features': 4, 'n_estimators': 3}\n",
            "0.6129504741382739 {'max_features': 4, 'n_estimators': 10}\n",
            "0.6356137595284523 {'max_features': 4, 'n_estimators': 30}\n",
            "0.6493266296345457 {'max_features': 4, 'n_estimators': 100}\n",
            "0.49959420633222873 {'max_features': 6, 'n_estimators': 3}\n",
            "0.5841583328491017 {'max_features': 6, 'n_estimators': 10}\n",
            "0.6289761329141935 {'max_features': 6, 'n_estimators': 30}\n",
            "0.6438503966258413 {'max_features': 6, 'n_estimators': 100}\n",
            "0.48536246340475786 {'max_features': 8, 'n_estimators': 3}\n",
            "0.5726219864969313 {'max_features': 8, 'n_estimators': 10}\n",
            "0.6120324142134682 {'max_features': 8, 'n_estimators': 30}\n",
            "0.6282549220679164 {'max_features': 8, 'n_estimators': 100}\n",
            "0.49692662746741256 {'bootstrap': False, 'max_features': 2, 'n_estimators': 3}\n",
            "0.6130258095716645 {'bootstrap': False, 'max_features': 2, 'n_estimators': 10}\n",
            "0.38814843435369656 {'bootstrap': False, 'max_features': 3, 'n_estimators': 3}\n",
            "0.519830294521304 {'bootstrap': False, 'max_features': 3, 'n_estimators': 10}\n",
            "0.44905364446855933 {'bootstrap': False, 'max_features': 4, 'n_estimators': 3}\n",
            "0.5926226228341618 {'bootstrap': False, 'max_features': 4, 'n_estimators': 10}\n"
          ]
        }
      ]
    },
    {
      "cell_type": "code",
      "source": [
        "pd.DataFrame(cvres)"
      ],
      "metadata": {
        "id": "jCHJPa_6vnOA",
        "colab": {
          "base_uri": "https://localhost:8080/",
          "height": 739
        },
        "outputId": "0980c7f5-e6dd-4548-88f6-03f837f98b22"
      },
      "execution_count": 20,
      "outputs": [
        {
          "output_type": "execute_result",
          "data": {
            "text/plain": [
              "    mean_fit_time  std_fit_time  mean_score_time  std_score_time  \\\n",
              "0        0.012652      0.001954         0.003815        0.000213   \n",
              "1        0.055056      0.026998         0.008978        0.005043   \n",
              "2        0.120293      0.040328         0.014359        0.007505   \n",
              "3        0.453344      0.124676         0.031531        0.015990   \n",
              "4        0.014789      0.004193         0.003898        0.000324   \n",
              "5        0.038250      0.015176         0.006515        0.003359   \n",
              "6        0.067899      0.032683         0.004878        0.000266   \n",
              "7        0.169657      0.005744         0.011342        0.001484   \n",
              "8        0.009887      0.003414         0.003079        0.001072   \n",
              "9        0.021139      0.000936         0.003316        0.000301   \n",
              "10       0.055690      0.000311         0.004797        0.000251   \n",
              "11       0.182065      0.003011         0.012206        0.003805   \n",
              "12       0.008350      0.000074         0.002439        0.000110   \n",
              "13       0.022549      0.001173         0.003120        0.000087   \n",
              "14       0.062635      0.002565         0.004649        0.000054   \n",
              "15       0.199695      0.004530         0.010365        0.000125   \n",
              "16       0.006472      0.000544         0.002318        0.000049   \n",
              "17       0.014492      0.000492         0.003160        0.000029   \n",
              "18       0.006577      0.000165         0.002336        0.000036   \n",
              "19       0.016043      0.000247         0.003278        0.000169   \n",
              "20       0.007094      0.000083         0.002467        0.000066   \n",
              "21       0.017651      0.000164         0.003233        0.000060   \n",
              "\n",
              "   param_max_features param_n_estimators param_bootstrap  \\\n",
              "0                   2                  3             NaN   \n",
              "1                   2                 10             NaN   \n",
              "2                   2                 30             NaN   \n",
              "3                   2                100             NaN   \n",
              "4                   4                  3             NaN   \n",
              "5                   4                 10             NaN   \n",
              "6                   4                 30             NaN   \n",
              "7                   4                100             NaN   \n",
              "8                   6                  3             NaN   \n",
              "9                   6                 10             NaN   \n",
              "10                  6                 30             NaN   \n",
              "11                  6                100             NaN   \n",
              "12                  8                  3             NaN   \n",
              "13                  8                 10             NaN   \n",
              "14                  8                 30             NaN   \n",
              "15                  8                100             NaN   \n",
              "16                  2                  3           False   \n",
              "17                  2                 10           False   \n",
              "18                  3                  3           False   \n",
              "19                  3                 10           False   \n",
              "20                  4                  3           False   \n",
              "21                  4                 10           False   \n",
              "\n",
              "                                               params  split0_test_score  \\\n",
              "0              {'max_features': 2, 'n_estimators': 3}           0.383886   \n",
              "1             {'max_features': 2, 'n_estimators': 10}           0.481914   \n",
              "2             {'max_features': 2, 'n_estimators': 30}           0.504049   \n",
              "3            {'max_features': 2, 'n_estimators': 100}           0.521785   \n",
              "4              {'max_features': 4, 'n_estimators': 3}           0.422126   \n",
              "5             {'max_features': 4, 'n_estimators': 10}           0.542722   \n",
              "6             {'max_features': 4, 'n_estimators': 30}           0.538470   \n",
              "7            {'max_features': 4, 'n_estimators': 100}           0.512140   \n",
              "8              {'max_features': 6, 'n_estimators': 3}           0.364711   \n",
              "9             {'max_features': 6, 'n_estimators': 10}           0.443013   \n",
              "10            {'max_features': 6, 'n_estimators': 30}           0.470267   \n",
              "11           {'max_features': 6, 'n_estimators': 100}           0.517437   \n",
              "12             {'max_features': 8, 'n_estimators': 3}           0.524803   \n",
              "13            {'max_features': 8, 'n_estimators': 10}           0.493069   \n",
              "14            {'max_features': 8, 'n_estimators': 30}           0.491947   \n",
              "15           {'max_features': 8, 'n_estimators': 100}           0.503820   \n",
              "16  {'bootstrap': False, 'max_features': 2, 'n_est...           0.471846   \n",
              "17  {'bootstrap': False, 'max_features': 2, 'n_est...           0.552468   \n",
              "18  {'bootstrap': False, 'max_features': 3, 'n_est...           0.245930   \n",
              "19  {'bootstrap': False, 'max_features': 3, 'n_est...           0.408191   \n",
              "20  {'bootstrap': False, 'max_features': 4, 'n_est...           0.195492   \n",
              "21  {'bootstrap': False, 'max_features': 4, 'n_est...           0.480829   \n",
              "\n",
              "    split1_test_score  split2_test_score  split3_test_score  \\\n",
              "0            0.116349           0.144090           0.434648   \n",
              "1            0.184712           0.360343           0.500190   \n",
              "2            0.217633           0.395659           0.529253   \n",
              "3            0.232784           0.424625           0.540044   \n",
              "4            0.005311           0.328530           0.495926   \n",
              "5            0.179086           0.416058           0.511194   \n",
              "6            0.212507           0.464352           0.540994   \n",
              "7            0.248424           0.473812           0.571022   \n",
              "8           -0.005030           0.252628           0.471997   \n",
              "9            0.082865           0.367510           0.525695   \n",
              "10           0.183950           0.429597           0.579299   \n",
              "11           0.204437           0.440518           0.584069   \n",
              "12           0.017039           0.184692           0.434408   \n",
              "13           0.011708           0.340301           0.581656   \n",
              "14           0.094012           0.390403           0.563623   \n",
              "15           0.154657           0.420497           0.565966   \n",
              "16           0.073863           0.293373           0.340389   \n",
              "17           0.170118           0.423702           0.510900   \n",
              "18          -0.174770           0.226052           0.417534   \n",
              "19           0.010561           0.290046           0.455428   \n",
              "20           0.051341           0.307274           0.399079   \n",
              "21           0.102130           0.421708           0.527801   \n",
              "\n",
              "    split4_test_score  mean_test_score  std_test_score  rank_test_score  \n",
              "0           -0.164157         0.182963        0.214549               21  \n",
              "1            0.104887         0.326409        0.157913               14  \n",
              "2            0.221746         0.373668        0.133504               10  \n",
              "3            0.293799         0.402608        0.121865                4  \n",
              "4            0.171561         0.284691        0.176795               15  \n",
              "5            0.229481         0.375708        0.146916                8  \n",
              "6            0.263701         0.404005        0.139173                3  \n",
              "7            0.302727         0.421625        0.124396                1  \n",
              "8            0.163665         0.249594        0.164281               17  \n",
              "9            0.287121         0.341241        0.151498               12  \n",
              "10           0.314942         0.395611        0.135483                5  \n",
              "11           0.326256         0.414543        0.135602                2  \n",
              "12           0.016941         0.235577        0.210398               19  \n",
              "13           0.212746         0.327896        0.202516               13  \n",
              "14           0.332935         0.374584        0.161379                9  \n",
              "15           0.328581         0.394704        0.144151                6  \n",
              "16           0.055209         0.246936        0.160117               18  \n",
              "17           0.221814         0.375801        0.153476                7  \n",
              "18           0.038551         0.150659        0.202215               22  \n",
              "19           0.186892         0.270224        0.160061               16  \n",
              "20           0.055060         0.201649        0.137298               20  \n",
              "21           0.223540         0.351202        0.162047               11  "
            ],
            "text/html": [
              "\n",
              "  <div id=\"df-76706dc0-60a7-4cf2-9384-1938fbec3d78\">\n",
              "    <div class=\"colab-df-container\">\n",
              "      <div>\n",
              "<style scoped>\n",
              "    .dataframe tbody tr th:only-of-type {\n",
              "        vertical-align: middle;\n",
              "    }\n",
              "\n",
              "    .dataframe tbody tr th {\n",
              "        vertical-align: top;\n",
              "    }\n",
              "\n",
              "    .dataframe thead th {\n",
              "        text-align: right;\n",
              "    }\n",
              "</style>\n",
              "<table border=\"1\" class=\"dataframe\">\n",
              "  <thead>\n",
              "    <tr style=\"text-align: right;\">\n",
              "      <th></th>\n",
              "      <th>mean_fit_time</th>\n",
              "      <th>std_fit_time</th>\n",
              "      <th>mean_score_time</th>\n",
              "      <th>std_score_time</th>\n",
              "      <th>param_max_features</th>\n",
              "      <th>param_n_estimators</th>\n",
              "      <th>param_bootstrap</th>\n",
              "      <th>params</th>\n",
              "      <th>split0_test_score</th>\n",
              "      <th>split1_test_score</th>\n",
              "      <th>split2_test_score</th>\n",
              "      <th>split3_test_score</th>\n",
              "      <th>split4_test_score</th>\n",
              "      <th>mean_test_score</th>\n",
              "      <th>std_test_score</th>\n",
              "      <th>rank_test_score</th>\n",
              "    </tr>\n",
              "  </thead>\n",
              "  <tbody>\n",
              "    <tr>\n",
              "      <th>0</th>\n",
              "      <td>0.012652</td>\n",
              "      <td>0.001954</td>\n",
              "      <td>0.003815</td>\n",
              "      <td>0.000213</td>\n",
              "      <td>2</td>\n",
              "      <td>3</td>\n",
              "      <td>NaN</td>\n",
              "      <td>{'max_features': 2, 'n_estimators': 3}</td>\n",
              "      <td>0.383886</td>\n",
              "      <td>0.116349</td>\n",
              "      <td>0.144090</td>\n",
              "      <td>0.434648</td>\n",
              "      <td>-0.164157</td>\n",
              "      <td>0.182963</td>\n",
              "      <td>0.214549</td>\n",
              "      <td>21</td>\n",
              "    </tr>\n",
              "    <tr>\n",
              "      <th>1</th>\n",
              "      <td>0.055056</td>\n",
              "      <td>0.026998</td>\n",
              "      <td>0.008978</td>\n",
              "      <td>0.005043</td>\n",
              "      <td>2</td>\n",
              "      <td>10</td>\n",
              "      <td>NaN</td>\n",
              "      <td>{'max_features': 2, 'n_estimators': 10}</td>\n",
              "      <td>0.481914</td>\n",
              "      <td>0.184712</td>\n",
              "      <td>0.360343</td>\n",
              "      <td>0.500190</td>\n",
              "      <td>0.104887</td>\n",
              "      <td>0.326409</td>\n",
              "      <td>0.157913</td>\n",
              "      <td>14</td>\n",
              "    </tr>\n",
              "    <tr>\n",
              "      <th>2</th>\n",
              "      <td>0.120293</td>\n",
              "      <td>0.040328</td>\n",
              "      <td>0.014359</td>\n",
              "      <td>0.007505</td>\n",
              "      <td>2</td>\n",
              "      <td>30</td>\n",
              "      <td>NaN</td>\n",
              "      <td>{'max_features': 2, 'n_estimators': 30}</td>\n",
              "      <td>0.504049</td>\n",
              "      <td>0.217633</td>\n",
              "      <td>0.395659</td>\n",
              "      <td>0.529253</td>\n",
              "      <td>0.221746</td>\n",
              "      <td>0.373668</td>\n",
              "      <td>0.133504</td>\n",
              "      <td>10</td>\n",
              "    </tr>\n",
              "    <tr>\n",
              "      <th>3</th>\n",
              "      <td>0.453344</td>\n",
              "      <td>0.124676</td>\n",
              "      <td>0.031531</td>\n",
              "      <td>0.015990</td>\n",
              "      <td>2</td>\n",
              "      <td>100</td>\n",
              "      <td>NaN</td>\n",
              "      <td>{'max_features': 2, 'n_estimators': 100}</td>\n",
              "      <td>0.521785</td>\n",
              "      <td>0.232784</td>\n",
              "      <td>0.424625</td>\n",
              "      <td>0.540044</td>\n",
              "      <td>0.293799</td>\n",
              "      <td>0.402608</td>\n",
              "      <td>0.121865</td>\n",
              "      <td>4</td>\n",
              "    </tr>\n",
              "    <tr>\n",
              "      <th>4</th>\n",
              "      <td>0.014789</td>\n",
              "      <td>0.004193</td>\n",
              "      <td>0.003898</td>\n",
              "      <td>0.000324</td>\n",
              "      <td>4</td>\n",
              "      <td>3</td>\n",
              "      <td>NaN</td>\n",
              "      <td>{'max_features': 4, 'n_estimators': 3}</td>\n",
              "      <td>0.422126</td>\n",
              "      <td>0.005311</td>\n",
              "      <td>0.328530</td>\n",
              "      <td>0.495926</td>\n",
              "      <td>0.171561</td>\n",
              "      <td>0.284691</td>\n",
              "      <td>0.176795</td>\n",
              "      <td>15</td>\n",
              "    </tr>\n",
              "    <tr>\n",
              "      <th>5</th>\n",
              "      <td>0.038250</td>\n",
              "      <td>0.015176</td>\n",
              "      <td>0.006515</td>\n",
              "      <td>0.003359</td>\n",
              "      <td>4</td>\n",
              "      <td>10</td>\n",
              "      <td>NaN</td>\n",
              "      <td>{'max_features': 4, 'n_estimators': 10}</td>\n",
              "      <td>0.542722</td>\n",
              "      <td>0.179086</td>\n",
              "      <td>0.416058</td>\n",
              "      <td>0.511194</td>\n",
              "      <td>0.229481</td>\n",
              "      <td>0.375708</td>\n",
              "      <td>0.146916</td>\n",
              "      <td>8</td>\n",
              "    </tr>\n",
              "    <tr>\n",
              "      <th>6</th>\n",
              "      <td>0.067899</td>\n",
              "      <td>0.032683</td>\n",
              "      <td>0.004878</td>\n",
              "      <td>0.000266</td>\n",
              "      <td>4</td>\n",
              "      <td>30</td>\n",
              "      <td>NaN</td>\n",
              "      <td>{'max_features': 4, 'n_estimators': 30}</td>\n",
              "      <td>0.538470</td>\n",
              "      <td>0.212507</td>\n",
              "      <td>0.464352</td>\n",
              "      <td>0.540994</td>\n",
              "      <td>0.263701</td>\n",
              "      <td>0.404005</td>\n",
              "      <td>0.139173</td>\n",
              "      <td>3</td>\n",
              "    </tr>\n",
              "    <tr>\n",
              "      <th>7</th>\n",
              "      <td>0.169657</td>\n",
              "      <td>0.005744</td>\n",
              "      <td>0.011342</td>\n",
              "      <td>0.001484</td>\n",
              "      <td>4</td>\n",
              "      <td>100</td>\n",
              "      <td>NaN</td>\n",
              "      <td>{'max_features': 4, 'n_estimators': 100}</td>\n",
              "      <td>0.512140</td>\n",
              "      <td>0.248424</td>\n",
              "      <td>0.473812</td>\n",
              "      <td>0.571022</td>\n",
              "      <td>0.302727</td>\n",
              "      <td>0.421625</td>\n",
              "      <td>0.124396</td>\n",
              "      <td>1</td>\n",
              "    </tr>\n",
              "    <tr>\n",
              "      <th>8</th>\n",
              "      <td>0.009887</td>\n",
              "      <td>0.003414</td>\n",
              "      <td>0.003079</td>\n",
              "      <td>0.001072</td>\n",
              "      <td>6</td>\n",
              "      <td>3</td>\n",
              "      <td>NaN</td>\n",
              "      <td>{'max_features': 6, 'n_estimators': 3}</td>\n",
              "      <td>0.364711</td>\n",
              "      <td>-0.005030</td>\n",
              "      <td>0.252628</td>\n",
              "      <td>0.471997</td>\n",
              "      <td>0.163665</td>\n",
              "      <td>0.249594</td>\n",
              "      <td>0.164281</td>\n",
              "      <td>17</td>\n",
              "    </tr>\n",
              "    <tr>\n",
              "      <th>9</th>\n",
              "      <td>0.021139</td>\n",
              "      <td>0.000936</td>\n",
              "      <td>0.003316</td>\n",
              "      <td>0.000301</td>\n",
              "      <td>6</td>\n",
              "      <td>10</td>\n",
              "      <td>NaN</td>\n",
              "      <td>{'max_features': 6, 'n_estimators': 10}</td>\n",
              "      <td>0.443013</td>\n",
              "      <td>0.082865</td>\n",
              "      <td>0.367510</td>\n",
              "      <td>0.525695</td>\n",
              "      <td>0.287121</td>\n",
              "      <td>0.341241</td>\n",
              "      <td>0.151498</td>\n",
              "      <td>12</td>\n",
              "    </tr>\n",
              "    <tr>\n",
              "      <th>10</th>\n",
              "      <td>0.055690</td>\n",
              "      <td>0.000311</td>\n",
              "      <td>0.004797</td>\n",
              "      <td>0.000251</td>\n",
              "      <td>6</td>\n",
              "      <td>30</td>\n",
              "      <td>NaN</td>\n",
              "      <td>{'max_features': 6, 'n_estimators': 30}</td>\n",
              "      <td>0.470267</td>\n",
              "      <td>0.183950</td>\n",
              "      <td>0.429597</td>\n",
              "      <td>0.579299</td>\n",
              "      <td>0.314942</td>\n",
              "      <td>0.395611</td>\n",
              "      <td>0.135483</td>\n",
              "      <td>5</td>\n",
              "    </tr>\n",
              "    <tr>\n",
              "      <th>11</th>\n",
              "      <td>0.182065</td>\n",
              "      <td>0.003011</td>\n",
              "      <td>0.012206</td>\n",
              "      <td>0.003805</td>\n",
              "      <td>6</td>\n",
              "      <td>100</td>\n",
              "      <td>NaN</td>\n",
              "      <td>{'max_features': 6, 'n_estimators': 100}</td>\n",
              "      <td>0.517437</td>\n",
              "      <td>0.204437</td>\n",
              "      <td>0.440518</td>\n",
              "      <td>0.584069</td>\n",
              "      <td>0.326256</td>\n",
              "      <td>0.414543</td>\n",
              "      <td>0.135602</td>\n",
              "      <td>2</td>\n",
              "    </tr>\n",
              "    <tr>\n",
              "      <th>12</th>\n",
              "      <td>0.008350</td>\n",
              "      <td>0.000074</td>\n",
              "      <td>0.002439</td>\n",
              "      <td>0.000110</td>\n",
              "      <td>8</td>\n",
              "      <td>3</td>\n",
              "      <td>NaN</td>\n",
              "      <td>{'max_features': 8, 'n_estimators': 3}</td>\n",
              "      <td>0.524803</td>\n",
              "      <td>0.017039</td>\n",
              "      <td>0.184692</td>\n",
              "      <td>0.434408</td>\n",
              "      <td>0.016941</td>\n",
              "      <td>0.235577</td>\n",
              "      <td>0.210398</td>\n",
              "      <td>19</td>\n",
              "    </tr>\n",
              "    <tr>\n",
              "      <th>13</th>\n",
              "      <td>0.022549</td>\n",
              "      <td>0.001173</td>\n",
              "      <td>0.003120</td>\n",
              "      <td>0.000087</td>\n",
              "      <td>8</td>\n",
              "      <td>10</td>\n",
              "      <td>NaN</td>\n",
              "      <td>{'max_features': 8, 'n_estimators': 10}</td>\n",
              "      <td>0.493069</td>\n",
              "      <td>0.011708</td>\n",
              "      <td>0.340301</td>\n",
              "      <td>0.581656</td>\n",
              "      <td>0.212746</td>\n",
              "      <td>0.327896</td>\n",
              "      <td>0.202516</td>\n",
              "      <td>13</td>\n",
              "    </tr>\n",
              "    <tr>\n",
              "      <th>14</th>\n",
              "      <td>0.062635</td>\n",
              "      <td>0.002565</td>\n",
              "      <td>0.004649</td>\n",
              "      <td>0.000054</td>\n",
              "      <td>8</td>\n",
              "      <td>30</td>\n",
              "      <td>NaN</td>\n",
              "      <td>{'max_features': 8, 'n_estimators': 30}</td>\n",
              "      <td>0.491947</td>\n",
              "      <td>0.094012</td>\n",
              "      <td>0.390403</td>\n",
              "      <td>0.563623</td>\n",
              "      <td>0.332935</td>\n",
              "      <td>0.374584</td>\n",
              "      <td>0.161379</td>\n",
              "      <td>9</td>\n",
              "    </tr>\n",
              "    <tr>\n",
              "      <th>15</th>\n",
              "      <td>0.199695</td>\n",
              "      <td>0.004530</td>\n",
              "      <td>0.010365</td>\n",
              "      <td>0.000125</td>\n",
              "      <td>8</td>\n",
              "      <td>100</td>\n",
              "      <td>NaN</td>\n",
              "      <td>{'max_features': 8, 'n_estimators': 100}</td>\n",
              "      <td>0.503820</td>\n",
              "      <td>0.154657</td>\n",
              "      <td>0.420497</td>\n",
              "      <td>0.565966</td>\n",
              "      <td>0.328581</td>\n",
              "      <td>0.394704</td>\n",
              "      <td>0.144151</td>\n",
              "      <td>6</td>\n",
              "    </tr>\n",
              "    <tr>\n",
              "      <th>16</th>\n",
              "      <td>0.006472</td>\n",
              "      <td>0.000544</td>\n",
              "      <td>0.002318</td>\n",
              "      <td>0.000049</td>\n",
              "      <td>2</td>\n",
              "      <td>3</td>\n",
              "      <td>False</td>\n",
              "      <td>{'bootstrap': False, 'max_features': 2, 'n_est...</td>\n",
              "      <td>0.471846</td>\n",
              "      <td>0.073863</td>\n",
              "      <td>0.293373</td>\n",
              "      <td>0.340389</td>\n",
              "      <td>0.055209</td>\n",
              "      <td>0.246936</td>\n",
              "      <td>0.160117</td>\n",
              "      <td>18</td>\n",
              "    </tr>\n",
              "    <tr>\n",
              "      <th>17</th>\n",
              "      <td>0.014492</td>\n",
              "      <td>0.000492</td>\n",
              "      <td>0.003160</td>\n",
              "      <td>0.000029</td>\n",
              "      <td>2</td>\n",
              "      <td>10</td>\n",
              "      <td>False</td>\n",
              "      <td>{'bootstrap': False, 'max_features': 2, 'n_est...</td>\n",
              "      <td>0.552468</td>\n",
              "      <td>0.170118</td>\n",
              "      <td>0.423702</td>\n",
              "      <td>0.510900</td>\n",
              "      <td>0.221814</td>\n",
              "      <td>0.375801</td>\n",
              "      <td>0.153476</td>\n",
              "      <td>7</td>\n",
              "    </tr>\n",
              "    <tr>\n",
              "      <th>18</th>\n",
              "      <td>0.006577</td>\n",
              "      <td>0.000165</td>\n",
              "      <td>0.002336</td>\n",
              "      <td>0.000036</td>\n",
              "      <td>3</td>\n",
              "      <td>3</td>\n",
              "      <td>False</td>\n",
              "      <td>{'bootstrap': False, 'max_features': 3, 'n_est...</td>\n",
              "      <td>0.245930</td>\n",
              "      <td>-0.174770</td>\n",
              "      <td>0.226052</td>\n",
              "      <td>0.417534</td>\n",
              "      <td>0.038551</td>\n",
              "      <td>0.150659</td>\n",
              "      <td>0.202215</td>\n",
              "      <td>22</td>\n",
              "    </tr>\n",
              "    <tr>\n",
              "      <th>19</th>\n",
              "      <td>0.016043</td>\n",
              "      <td>0.000247</td>\n",
              "      <td>0.003278</td>\n",
              "      <td>0.000169</td>\n",
              "      <td>3</td>\n",
              "      <td>10</td>\n",
              "      <td>False</td>\n",
              "      <td>{'bootstrap': False, 'max_features': 3, 'n_est...</td>\n",
              "      <td>0.408191</td>\n",
              "      <td>0.010561</td>\n",
              "      <td>0.290046</td>\n",
              "      <td>0.455428</td>\n",
              "      <td>0.186892</td>\n",
              "      <td>0.270224</td>\n",
              "      <td>0.160061</td>\n",
              "      <td>16</td>\n",
              "    </tr>\n",
              "    <tr>\n",
              "      <th>20</th>\n",
              "      <td>0.007094</td>\n",
              "      <td>0.000083</td>\n",
              "      <td>0.002467</td>\n",
              "      <td>0.000066</td>\n",
              "      <td>4</td>\n",
              "      <td>3</td>\n",
              "      <td>False</td>\n",
              "      <td>{'bootstrap': False, 'max_features': 4, 'n_est...</td>\n",
              "      <td>0.195492</td>\n",
              "      <td>0.051341</td>\n",
              "      <td>0.307274</td>\n",
              "      <td>0.399079</td>\n",
              "      <td>0.055060</td>\n",
              "      <td>0.201649</td>\n",
              "      <td>0.137298</td>\n",
              "      <td>20</td>\n",
              "    </tr>\n",
              "    <tr>\n",
              "      <th>21</th>\n",
              "      <td>0.017651</td>\n",
              "      <td>0.000164</td>\n",
              "      <td>0.003233</td>\n",
              "      <td>0.000060</td>\n",
              "      <td>4</td>\n",
              "      <td>10</td>\n",
              "      <td>False</td>\n",
              "      <td>{'bootstrap': False, 'max_features': 4, 'n_est...</td>\n",
              "      <td>0.480829</td>\n",
              "      <td>0.102130</td>\n",
              "      <td>0.421708</td>\n",
              "      <td>0.527801</td>\n",
              "      <td>0.223540</td>\n",
              "      <td>0.351202</td>\n",
              "      <td>0.162047</td>\n",
              "      <td>11</td>\n",
              "    </tr>\n",
              "  </tbody>\n",
              "</table>\n",
              "</div>\n",
              "      <button class=\"colab-df-convert\" onclick=\"convertToInteractive('df-76706dc0-60a7-4cf2-9384-1938fbec3d78')\"\n",
              "              title=\"Convert this dataframe to an interactive table.\"\n",
              "              style=\"display:none;\">\n",
              "        \n",
              "  <svg xmlns=\"http://www.w3.org/2000/svg\" height=\"24px\"viewBox=\"0 0 24 24\"\n",
              "       width=\"24px\">\n",
              "    <path d=\"M0 0h24v24H0V0z\" fill=\"none\"/>\n",
              "    <path d=\"M18.56 5.44l.94 2.06.94-2.06 2.06-.94-2.06-.94-.94-2.06-.94 2.06-2.06.94zm-11 1L8.5 8.5l.94-2.06 2.06-.94-2.06-.94L8.5 2.5l-.94 2.06-2.06.94zm10 10l.94 2.06.94-2.06 2.06-.94-2.06-.94-.94-2.06-.94 2.06-2.06.94z\"/><path d=\"M17.41 7.96l-1.37-1.37c-.4-.4-.92-.59-1.43-.59-.52 0-1.04.2-1.43.59L10.3 9.45l-7.72 7.72c-.78.78-.78 2.05 0 2.83L4 21.41c.39.39.9.59 1.41.59.51 0 1.02-.2 1.41-.59l7.78-7.78 2.81-2.81c.8-.78.8-2.07 0-2.86zM5.41 20L4 18.59l7.72-7.72 1.47 1.35L5.41 20z\"/>\n",
              "  </svg>\n",
              "      </button>\n",
              "      \n",
              "  <style>\n",
              "    .colab-df-container {\n",
              "      display:flex;\n",
              "      flex-wrap:wrap;\n",
              "      gap: 12px;\n",
              "    }\n",
              "\n",
              "    .colab-df-convert {\n",
              "      background-color: #E8F0FE;\n",
              "      border: none;\n",
              "      border-radius: 50%;\n",
              "      cursor: pointer;\n",
              "      display: none;\n",
              "      fill: #1967D2;\n",
              "      height: 32px;\n",
              "      padding: 0 0 0 0;\n",
              "      width: 32px;\n",
              "    }\n",
              "\n",
              "    .colab-df-convert:hover {\n",
              "      background-color: #E2EBFA;\n",
              "      box-shadow: 0px 1px 2px rgba(60, 64, 67, 0.3), 0px 1px 3px 1px rgba(60, 64, 67, 0.15);\n",
              "      fill: #174EA6;\n",
              "    }\n",
              "\n",
              "    [theme=dark] .colab-df-convert {\n",
              "      background-color: #3B4455;\n",
              "      fill: #D2E3FC;\n",
              "    }\n",
              "\n",
              "    [theme=dark] .colab-df-convert:hover {\n",
              "      background-color: #434B5C;\n",
              "      box-shadow: 0px 1px 3px 1px rgba(0, 0, 0, 0.15);\n",
              "      filter: drop-shadow(0px 1px 2px rgba(0, 0, 0, 0.3));\n",
              "      fill: #FFFFFF;\n",
              "    }\n",
              "  </style>\n",
              "\n",
              "      <script>\n",
              "        const buttonEl =\n",
              "          document.querySelector('#df-76706dc0-60a7-4cf2-9384-1938fbec3d78 button.colab-df-convert');\n",
              "        buttonEl.style.display =\n",
              "          google.colab.kernel.accessAllowed ? 'block' : 'none';\n",
              "\n",
              "        async function convertToInteractive(key) {\n",
              "          const element = document.querySelector('#df-76706dc0-60a7-4cf2-9384-1938fbec3d78');\n",
              "          const dataTable =\n",
              "            await google.colab.kernel.invokeFunction('convertToInteractive',\n",
              "                                                     [key], {});\n",
              "          if (!dataTable) return;\n",
              "\n",
              "          const docLinkHtml = 'Like what you see? Visit the ' +\n",
              "            '<a target=\"_blank\" href=https://colab.research.google.com/notebooks/data_table.ipynb>data table notebook</a>'\n",
              "            + ' to learn more about interactive tables.';\n",
              "          element.innerHTML = '';\n",
              "          dataTable['output_type'] = 'display_data';\n",
              "          await google.colab.output.renderOutput(dataTable, element);\n",
              "          const docLink = document.createElement('div');\n",
              "          docLink.innerHTML = docLinkHtml;\n",
              "          element.appendChild(docLink);\n",
              "        }\n",
              "      </script>\n",
              "    </div>\n",
              "  </div>\n",
              "  "
            ]
          },
          "metadata": {},
          "execution_count": 20
        }
      ]
    },
    {
      "cell_type": "code",
      "source": [
        "feature_importances = grid_search.best_estimator_.feature_importances_\n",
        "sorted(zip(feature_importances, features), reverse=True)"
      ],
      "metadata": {
        "id": "m8sGKWYx0DSy",
        "colab": {
          "base_uri": "https://localhost:8080/"
        },
        "outputId": "99b98d12-bcde-41bf-e1ca-b4f900a5ad4e"
      },
      "execution_count": 21,
      "outputs": [
        {
          "output_type": "execute_result",
          "data": {
            "text/plain": [
              "[(0.28351829440871834, 'bmi'),\n",
              " (0.18953648066786374, 's5'),\n",
              " (0.11020650778422302, 'bp'),\n",
              " (0.08314319479372809, 's6'),\n",
              " (0.07572548917242432, 's3'),\n",
              " (0.06538523460860281, 's2'),\n",
              " (0.061400080248685325, 's4'),\n",
              " (0.06136416887821799, 's1'),\n",
              " (0.05757954460714262, 'age'),\n",
              " (0.01214100483039378, 'sex')]"
            ]
          },
          "metadata": {},
          "execution_count": 21
        }
      ]
    },
    {
      "cell_type": "code",
      "source": [
        "RMSE = mean_squared_error(y_train, forest_predictions, squared=False)\n",
        "print(\"RMSE:\", RMSE)"
      ],
      "metadata": {
        "id": "7d27Mtm9HT7h",
        "colab": {
          "base_uri": "https://localhost:8080/"
        },
        "outputId": "17f70346-ce4f-4d2e-acb0-e41f41faff95"
      },
      "execution_count": 22,
      "outputs": [
        {
          "output_type": "stream",
          "name": "stdout",
          "text": [
            "RMSE: 21.466115310311288\n"
          ]
        }
      ]
    },
    {
      "cell_type": "markdown",
      "source": [
        "How the correlation matrix compares with the grid search from most to least correlation:"
      ],
      "metadata": {
        "id": "xnF4L8nk6NDK"
      }
    },
    {
      "cell_type": "markdown",
      "source": [
        "**Correlation Matrix:** bmi s5 bp s4 s6 s1 age s2 sex s3"
      ],
      "metadata": {
        "id": "v_74AngP14B6"
      }
    },
    {
      "cell_type": "markdown",
      "source": [
        "**Feature Importances**: bmi s5 bp s3 s2 s4 s6 s1 age sex"
      ],
      "metadata": {
        "id": "DhAbLN922j5t"
      }
    },
    {
      "cell_type": "code",
      "source": [
        "# RMSE of the model found by grid search\n",
        "best_param_model = grid_search.best_estimator_\n",
        "best_param_predictions = best_param_model.predict(X_train)\n",
        "\n",
        "best_param_RMSE = mean_squared_error(y_train, best_param_predictions, squared=False)\n",
        "print(best_param_RMSE)"
      ],
      "metadata": {
        "id": "nOAEkoNGJE-t",
        "colab": {
          "base_uri": "https://localhost:8080/"
        },
        "outputId": "225280c4-14df-46d3-d55f-4761571ed2a4"
      },
      "execution_count": 23,
      "outputs": [
        {
          "output_type": "stream",
          "name": "stdout",
          "text": [
            "21.31335332004428\n"
          ]
        }
      ]
    },
    {
      "cell_type": "markdown",
      "source": [
        "#**Part 4: Model Evaluation**\n",
        "\n",
        "\n",
        "*   Assignment 1 Linear Regression RMSE: 59.21\n",
        "*   Assignment 2 Linear Regression RMSE: 53.56\n",
        "*   Assignment 2 Random Forest Regressor RMSE: 21.46\n",
        "*   Assignment 2 RFR with grid search parameters RMSE:  21.31"
      ],
      "metadata": {
        "id": "VFvmEvdH3Kpe"
      }
    }
  ]
}