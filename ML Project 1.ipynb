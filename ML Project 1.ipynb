{
  "nbformat": 4,
  "nbformat_minor": 0,
  "metadata": {
    "colab": {
      "provenance": [],
      "authorship_tag": "ABX9TyN2kt/9Pv94SSG6KEArFQVL"
    },
    "kernelspec": {
      "name": "python3",
      "display_name": "Python 3"
    },
    "language_info": {
      "name": "python"
    }
  },
  "cells": [
    {
      "cell_type": "markdown",
      "source": [
        "**Assignment 1**"
      ],
      "metadata": {
        "id": "oeYaAeIazR9c"
      }
    },
    {
      "cell_type": "code",
      "execution_count": null,
      "metadata": {
        "id": "NEpBuxNAw1Jl"
      },
      "outputs": [],
      "source": [
        "import matplotlib as mpl\n",
        "import matplotlib.pyplot as plt\n",
        "import numpy as np\n",
        "import pandas as pd\n",
        "\n",
        "from sklearn import datasets\n",
        "from sklearn.linear_model import LinearRegression\n",
        "from sklearn.metrics import mean_squared_error\n",
        "from pandas.plotting import scatter_matrix\n",
        "from sklearn.model_selection import train_test_split"
      ]
    },
    {
      "cell_type": "code",
      "source": [
        "# Load Dataset\n",
        "diabetes = datasets.load_diabetes()\n",
        "\n",
        "data = diabetes.data\n",
        "Y = diabetes.target # labels\n",
        "features = diabetes.feature_names # Not included in the data"
      ],
      "metadata": {
        "id": "1_ATT1BKxXB4"
      },
      "execution_count": null,
      "outputs": []
    },
    {
      "cell_type": "code",
      "source": [
        "# print(diabetes.DESCR)\n",
        "# data.hist(bins=50,figsize=(20,15))\n",
        "# X.hist(bins=50,figsize=(20,15))"
      ],
      "metadata": {
        "id": "syszuI9T8PLa"
      },
      "execution_count": null,
      "outputs": []
    },
    {
      "cell_type": "code",
      "source": [
        "# Plots variables against one another\n",
        "scatter_matrix(pd.DataFrame(data), figsize=(12,8))"
      ],
      "metadata": {
        "id": "UMVn3H7BYOte"
      },
      "execution_count": null,
      "outputs": []
    },
    {
      "cell_type": "code",
      "source": [
        "main_feature = \"bmi\"\n",
        "# From what I know, bmi (and being overweight) increases risk for diabetes\n",
        "col = features.index(main_feature)\n",
        "X = data[:,col] # data"
      ],
      "metadata": {
        "id": "MaRA1VBHDXbb"
      },
      "execution_count": null,
      "outputs": []
    },
    {
      "cell_type": "code",
      "source": [
        "X_train, X_test, Y_train, Y_test = train_test_split(X, Y, test_size=20/len(data), random_state=42) # Create training and testing data and labels\n",
        "\n",
        "# Make arrays 2d\n",
        "X_train = X_train.reshape(-1,1)\n",
        "Y_train = Y_train.reshape(-1,1)"
      ],
      "metadata": {
        "id": "PeS6-N_i2GPM"
      },
      "execution_count": null,
      "outputs": []
    },
    {
      "cell_type": "code",
      "source": [
        "# Train regression\n",
        "lin_reg = LinearRegression()\n",
        "lin_reg.fit(X_train, Y_train)"
      ],
      "metadata": {
        "id": "hTDevCH_5aus",
        "outputId": "887a5bf6-536d-4888-e62e-2316cfbc5775",
        "colab": {
          "base_uri": "https://localhost:8080/"
        }
      },
      "execution_count": null,
      "outputs": [
        {
          "output_type": "execute_result",
          "data": {
            "text/plain": [
              "LinearRegression()"
            ]
          },
          "metadata": {},
          "execution_count": 8
        }
      ]
    },
    {
      "cell_type": "code",
      "source": [
        "# Print statistics\n",
        "targets = Y_train[:10]\n",
        "predictions = lin_reg.predict(X_train[:10])\n",
        "print(\"Predictions:\", predictions)\n",
        "\n",
        "RMSE = mean_squared_error(targets, predictions, squared=False)\n",
        "print(\"RMSE:\", RMSE)"
      ],
      "metadata": {
        "id": "bTc3UFi5BHbK",
        "outputId": "59a7fcbe-4dc6-4063-d688-4bdda04989f2",
        "colab": {
          "base_uri": "https://localhost:8080/"
        }
      },
      "execution_count": null,
      "outputs": [
        {
          "output_type": "stream",
          "name": "stdout",
          "text": [
            "Predictions: [[189.00193838]\n",
            " [110.19527423]\n",
            " [103.97369548]\n",
            " [173.4479915 ]\n",
            " [194.18658733]\n",
            " [165.15255317]\n",
            " [208.70360441]\n",
            " [134.04465943]\n",
            " [ 80.12431028]\n",
            " [130.93387006]]\n",
            "RMSE: 59.21130205856623\n"
          ]
        }
      ]
    },
    {
      "cell_type": "code",
      "source": [
        "# Plot linear regression\n",
        "m = np.squeeze(lin_reg.coef_)\n",
        "b = np.squeeze(lin_reg.intercept_)\n",
        "\n",
        "x = [X.min(), X.max()]\n",
        "y = m * x + b\n",
        "\n",
        "print(x,y)\n",
        "\n",
        "plt.scatter(X, Y)\n",
        "plt.plot(x,y, color='g')\n",
        "plt.title(\"BMI and Diabetes regression\")\n",
        "plt.xlabel(\"BMI\")\n",
        "plt.ylabel(\"Diabetes?\")"
      ],
      "metadata": {
        "id": "M3QlfIQZOago",
        "outputId": "db9468a0-f686-435b-f671-4bb9b4e5c123",
        "colab": {
          "base_uri": "https://localhost:8080/",
          "height": 330
        }
      },
      "execution_count": null,
      "outputs": [
        {
          "output_type": "stream",
          "name": "stdout",
          "text": [
            "[-0.0902752958985185, 0.17055522598066] [ 64.57036341 315.50737293]\n"
          ]
        },
        {
          "output_type": "execute_result",
          "data": {
            "text/plain": [
              "Text(0, 0.5, 'Diabetes?')"
            ]
          },
          "metadata": {},
          "execution_count": 10
        },
        {
          "output_type": "display_data",
          "data": {
            "text/plain": [
              "<Figure size 432x288 with 1 Axes>"
            ],
            "image/png": "[encoded data removed]"
          },
          "metadata": {
            "needs_background": "light"
          }
        }
      ]
    }
  ]
}
