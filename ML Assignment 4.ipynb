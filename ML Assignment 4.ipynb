{
  "nbformat": 4,
  "nbformat_minor": 0,
  "metadata": {
    "colab": {
      "provenance": [],
      "collapsed_sections": [],
      "authorship_tag": "ABX9TyPQ69jx76Xu9XbcdHTCCDHd",
      "include_colab_link": true
    },
    "kernelspec": {
      "name": "python3",
      "display_name": "Python 3"
    },
    "language_info": {
      "name": "python"
    }
  },
  "cells": [
    {
      "cell_type": "markdown",
      "metadata": {
        "id": "view-in-github",
        "colab_type": "text"
      },
      "source": [
        "<a href=\"https://colab.research.google.com/github/SpoilStick/ML-Projects/blob/main/ML%20Assignment%204.ipynb\" target=\"_parent\"><img src=\"https://colab.research.google.com/assets/colab-badge.svg\" alt=\"Open In Colab\"/></a>"
      ]
    },
    {
      "cell_type": "code",
      "execution_count": null,
      "metadata": {
        "id": "lZPKnKZvWz7S"
      },
      "outputs": [],
      "source": [
        "import matplotlib as mpl\n",
        "import matplotlib.pyplot as plt\n",
        "import numpy as np\n",
        "import pandas as pd\n",
        "import seaborn as sns\n",
        "\n",
        "from sklearn.preprocessing import StandardScaler\n",
        "from sklearn.model_selection import train_test_split\n",
        "from sklearn.linear_model import LinearRegression\n",
        "from sklearn.metrics import r2_score\n",
        "from sklearn.metrics import mean_squared_error\n",
        "from sklearn.tree import DecisionTreeRegressor\n",
        "from sklearn.ensemble import RandomForestRegressor\n",
        "from sklearn.linear_model import SGDRegressor\n",
        "from sklearn import linear_model\n",
        "from sklearn.linear_model import ElasticNet\n",
        "from sklearn.linear_model import Ridge\n",
        "from sklearn.ensemble import BaggingRegressor\n",
        "from sklearn.model_selection import cross_val_score\n",
        "from sklearn.model_selection import RandomizedSearchCV\n",
        "\n",
        "from tabulate import tabulate"
      ]
    },
    {
      "cell_type": "markdown",
      "source": [
        "# Part 1: Data Exploration"
      ],
      "metadata": {
        "id": "TgiAzFW-e5Sk"
      }
    },
    {
      "cell_type": "code",
      "source": [
        "data = pd.read_csv(\"bike_share_hour.csv\")"
      ],
      "metadata": {
        "id": "1wfG7yPQv742"
      },
      "execution_count": null,
      "outputs": []
    },
    {
      "cell_type": "code",
      "source": [
        "data.head()"
      ],
      "metadata": {
        "id": "ojqolVVgfCme"
      },
      "execution_count": null,
      "outputs": []
    },
    {
      "cell_type": "code",
      "source": [
        "print(data[\"season\"].unique())"
      ],
      "metadata": {
        "id": "LUxlHnbZpMyG"
      },
      "execution_count": null,
      "outputs": []
    },
    {
      "cell_type": "code",
      "source": [
        "# Categorical?\n",
        "# It seems like the categorical variables are already converted\n",
        "data = data.drop(columns=[\"dteday\"])\n",
        "data.dropna()"
      ],
      "metadata": {
        "id": "JT7seiy41SpJ"
      },
      "execution_count": null,
      "outputs": []
    },
    {
      "cell_type": "code",
      "source": [
        "def bar_chart(df, x_axis, y_axis):\n",
        "  # Sum for each unique x value\n",
        "  for x in df[x_axis].unique():\n",
        "    # Get the columns\n",
        "    sum = df.loc[df[x_axis]==x]\n",
        "    # Sum over that column\n",
        "    sum = sum[y_axis].sum()\n",
        "    plt.bar(x, sum)\n",
        "  \n",
        "  plt.ylabel = y_axis # Neither label appears, can't figure out why\n",
        "  plt.xlabel = x_axis"
      ],
      "metadata": {
        "id": "WL5oQ6TcRG7q"
      },
      "execution_count": null,
      "outputs": []
    },
    {
      "cell_type": "code",
      "source": [
        " # CNT vs season total bar graph\n",
        "bar_chart(data, \"season\",\"cnt\")\n",
        "\n",
        "# Season 3 (Fall?) has the most bike rides\n",
        "# Season 1 (Spring?) has the least bike rides"
      ],
      "metadata": {
        "id": "WrQD_Upb6aCG"
      },
      "execution_count": null,
      "outputs": []
    },
    {
      "cell_type": "code",
      "source": [
        " # Working day vs count bar graph\n",
        " # 1 is a work day, 0 isn't\n",
        "bar_chart(data, \"workingday\", \"cnt\")\n",
        "\n",
        "# A majority of bike rides are on working days"
      ],
      "metadata": {
        "id": "hx7LgVUmnlpM"
      },
      "execution_count": null,
      "outputs": []
    },
    {
      "cell_type": "code",
      "source": [
        " # Month vs count total bar graph\n",
        "bar_chart(data, \"mnth\", \"cnt\")\n",
        "\n",
        "# Most bike rides are in the summer (the middle of\n",
        "# the year), before steeply dropping in october to\n",
        "# november"
      ],
      "metadata": {
        "id": "LlSDJevIv5S9"
      },
      "execution_count": null,
      "outputs": []
    },
    {
      "cell_type": "code",
      "source": [
        "def month_to_season(month):\n",
        "  return np.ceil(month / 3)\n",
        "\n",
        "#for x in range(1, 13):\n",
        "#  print(month_to_season(x))"
      ],
      "metadata": {
        "id": "cZh83BqDwdbR"
      },
      "execution_count": null,
      "outputs": []
    },
    {
      "cell_type": "code",
      "source": [
        " # Weather vs count total bar graph\n",
        "bar_chart(data, \"weathersit\", \"cnt\")\n",
        "\n",
        "# No clue what each value means"
      ],
      "metadata": {
        "id": "l_OoH6OFw42e"
      },
      "execution_count": null,
      "outputs": []
    },
    {
      "cell_type": "code",
      "source": [
        "ax = sns.pointplot(x=\"weathersit\", y=\"cnt\", hue=\"season\", data=data)"
      ],
      "metadata": {
        "id": "N0B2-FyOxj2p"
      },
      "execution_count": null,
      "outputs": []
    },
    {
      "cell_type": "code",
      "source": [
        " # Hour vs count bar graph\n",
        "bar_chart(data, \"hr\", \"cnt\")\n",
        "\n",
        "# In the morning bikes peak at 8 A.M., anad in the afternoon peak at 5 and 6 P.M."
      ],
      "metadata": {
        "id": "DIv02AA-1GLo"
      },
      "execution_count": null,
      "outputs": []
    },
    {
      "cell_type": "code",
      "source": [
        " # Hour vs count on weekends/holidays bar graph\n",
        "no_work_data = data[data[\"workingday\"]==0]\n",
        "bar_chart(no_work_data, \"hr\", \"cnt\")\n",
        "\n",
        "# Without workdays, bike rides fluctuate smoothly, peaking afternoon at "
      ],
      "metadata": {
        "id": "CPqRW6Duy35x"
      },
      "execution_count": null,
      "outputs": []
    },
    {
      "cell_type": "markdown",
      "source": [
        "# Part 2: Data Preparation"
      ],
      "metadata": {
        "id": "jnLEO6wqfMWD"
      }
    },
    {
      "cell_type": "code",
      "source": [
        "corr_matrix = data.corr()\n",
        "\n",
        "plt.figure(figsize=(16,16))\n",
        "ax= sns.heatmap(corr_matrix, annot=True)\n",
        "plt.show()"
      ],
      "metadata": {
        "id": "h1NyRHn22ofB"
      },
      "execution_count": null,
      "outputs": []
    },
    {
      "cell_type": "code",
      "source": [
        "# Data already scaled?\n",
        "scalar = StandardScaler()\n",
        "scalar.fit(data)\n",
        "scalar.transform(data)"
      ],
      "metadata": {
        "id": "fbFEJhETUfld"
      },
      "execution_count": null,
      "outputs": []
    },
    {
      "cell_type": "code",
      "source": [
        "# Drop columns\n",
        "print(data)\n",
        "data = data.drop(columns=[\"instant\", \"casual\", \"registered\"])"
      ],
      "metadata": {
        "id": "vhHXyMnuWslD"
      },
      "execution_count": null,
      "outputs": []
    },
    {
      "cell_type": "code",
      "source": [
        "ax = data[\"cnt\"].hist()\n",
        "# This distribution is skewed right"
      ],
      "metadata": {
        "id": "utSA-ps6gFar"
      },
      "execution_count": null,
      "outputs": []
    },
    {
      "cell_type": "code",
      "source": [
        "X = data\n",
        "y = X.pop(\"cnt\")\n",
        "\n",
        "X_train, X_test, y_train, y_test =  train_test_split(X, y, test_size=1/3, random_state=42)"
      ],
      "metadata": {
        "id": "nyycJ5R_gW5t"
      },
      "execution_count": null,
      "outputs": []
    },
    {
      "cell_type": "code",
      "source": [
        "lin_reg = LinearRegression().fit(X_train ,y_train)\n",
        "lin_predictions = lin_reg.predict(X_train)"
      ],
      "metadata": {
        "id": "oN-Gys_7jTcM"
      },
      "execution_count": null,
      "outputs": []
    },
    {
      "cell_type": "code",
      "source": [
        "r2 = r2_score(y_train, lin_predictions)\n",
        "print(\"r2:\", r2)\n",
        "\n",
        "MSE = mean_squared_error(y_train, lin_predictions)\n",
        "print(\"MSE:\", MSE)\n",
        "\n",
        "RMSE = np.sqrt(MSE)\n",
        "print(\"RMSE:\", RMSE)"
      ],
      "metadata": {
        "id": "quq3W_Z7jnMd"
      },
      "execution_count": null,
      "outputs": []
    },
    {
      "cell_type": "markdown",
      "source": [
        "# Part 3: Model Training"
      ],
      "metadata": {
        "id": "N3hMpaG1fPPv"
      }
    },
    {
      "cell_type": "code",
      "source": [
        "encoded_data = pd.get_dummies(data=data, columns=[\"season\", \"yr\", \"mnth\", \"hr\", \"weekday\", \"weathersit\"])\n",
        "\n",
        "X_train, X_test, y_train, y_test = train_test_split(encoded_data, y, test_size=1/3, random_state=42)"
      ],
      "metadata": {
        "id": "zI1TQ0KNhm3q"
      },
      "execution_count": null,
      "outputs": []
    },
    {
      "cell_type": "code",
      "source": [
        "models = [\n",
        "    LinearRegression(), \n",
        "    DecisionTreeRegressor(random_state=0), \n",
        "    RandomForestRegressor(random_state=0, n_estimators=30), \n",
        "    SGDRegressor(max_iter=1000, tol=1e-3), \n",
        "    linear_model.Lasso(alpha=0.1), \n",
        "    ElasticNet(random_state=0), \n",
        "    Ridge(alpha=0.5), \n",
        "    BaggingRegressor()]\n",
        "\n",
        "table = pd.DataFrame(columns=[\"Model\", \"r2 coefficient\", \"MSE\", \"RMSE\"])"
      ],
      "metadata": {
        "id": "O0JsSNsnzV_2"
      },
      "execution_count": null,
      "outputs": []
    },
    {
      "cell_type": "code",
      "source": [
        "for model in models:\n",
        "  model.fit(X_train, y_train)\n",
        "  predictions = model.predict(X_train)\n",
        "\n",
        "  r2 = r2_score(y_train, predictions)\n",
        "  MSE = mean_squared_error(y_train, predictions)\n",
        "  RMSE = np.sqrt(MSE)\n",
        "\n",
        "  table.loc[len(table.index)] = [model, r2, MSE, RMSE]"
      ],
      "metadata": {
        "id": "YKEwGQDe2iCR"
      },
      "execution_count": null,
      "outputs": []
    },
    {
      "cell_type": "code",
      "source": [
        "print(tabulate(table, headers='keys', tablefmt='psql'))"
      ],
      "metadata": {
        "id": "TDuyixr82jWk"
      },
      "execution_count": null,
      "outputs": []
    },
    {
      "cell_type": "markdown",
      "source": [
        "# Part 4: Model Tuning"
      ],
      "metadata": {
        "id": "floBsU0pfTxc"
      }
    },
    {
      "cell_type": "code",
      "source": [
        "table = table.sort_values(\"MSE\")[:3]"
      ],
      "metadata": {
        "id": "SSo-HEF1Nfrp"
      },
      "execution_count": null,
      "outputs": []
    },
    {
      "cell_type": "code",
      "source": [
        "cross_val_scores = []\n",
        "\n",
        "for model in table[\"Model\"]:\n",
        "  cross_val = cross_val_score(model, X_train, y_train)\n",
        "  cross_val_scores.append(cross_val[4])"
      ],
      "metadata": {
        "id": "Y4i0kmlzUxzi"
      },
      "execution_count": null,
      "outputs": []
    },
    {
      "cell_type": "code",
      "source": [
        "table[\"Cross Validation Score\"] = cross_val_scores"
      ],
      "metadata": {
        "id": "B2D4ImP6WcOx"
      },
      "execution_count": null,
      "outputs": []
    },
    {
      "cell_type": "code",
      "source": [
        "table = table.sort_values(\"Cross Validation Score\", ascending=False)[:1]"
      ],
      "metadata": {
        "id": "lhxIP6cPVUEt"
      },
      "execution_count": null,
      "outputs": []
    },
    {
      "cell_type": "code",
      "source": [
        "print(table)"
      ],
      "metadata": {
        "id": "Zq8Jf3QKYQI-"
      },
      "execution_count": null,
      "outputs": []
    },
    {
      "cell_type": "code",
      "source": [
        "print(table[\"Model\"].iloc[0])"
      ],
      "metadata": {
        "id": "-UMDa2obBLxQ"
      },
      "execution_count": null,
      "outputs": []
    },
    {
      "cell_type": "code",
      "source": [
        "param_distribs = {\n",
        "        'bootstrap': [True, False],\n",
        "        'max_depth': range(10, 120, 10), # 10 - 110\n",
        "        'max_features': [\"auto\", \"sqrt\"],\n",
        "        'min_samples_split': [2,5,10],\n",
        "        'min_samples_leaf': [1,2,4],\n",
        "        'n_estimators': range(20, 220, 20) # 20 - 200\n",
        "    }\n",
        "\n",
        "rnd_search = RandomizedSearchCV(table[\"Model\"].iloc[0], param_distribs, n_jobs=3, n_iter=20, cv=3)"
      ],
      "metadata": {
        "id": "K_5wrplYYgMu"
      },
      "execution_count": null,
      "outputs": []
    },
    {
      "cell_type": "code",
      "source": [
        "rnd_search.fit(X_train, y_train)"
      ],
      "metadata": {
        "id": "Vu8eJObAGEXa"
      },
      "execution_count": null,
      "outputs": []
    },
    {
      "cell_type": "code",
      "source": [
        "rnd_search.best_params_"
      ],
      "metadata": {
        "id": "EsGVea66GFR3"
      },
      "execution_count": null,
      "outputs": []
    },
    {
      "cell_type": "code",
      "source": [
        "final_model = rnd_search.best_estimator_\n",
        "final_predictions = final_model.predict(X_train)"
      ],
      "metadata": {
        "id": "WlgljVilKRA-"
      },
      "execution_count": null,
      "outputs": []
    },
    {
      "cell_type": "code",
      "source": [
        "final_r2 = r2_score(y_train, final_predictions)\n",
        "print(\"r2:\", final_r2)\n",
        "\n",
        "final_MSE = mean_squared_error(y_train, final_predictions)\n",
        "print(\"MSE:\", final_MSE)\n",
        "\n",
        "final_RMSE = np.sqrt(final_MSE)\n",
        "print(\"RMSE:\", final_RMSE)\n",
        "\n",
        "print(\"Cross Validation Score:\", cross_val_score(final_model, X_train, y_train))"
      ],
      "metadata": {
        "id": "BGq5Bl0lKi9X"
      },
      "execution_count": null,
      "outputs": []
    },
    {
      "cell_type": "code",
      "source": [
        "print(\"Test r2:\", r2_score(y_test, final_model.predict(X_test)))\n",
        "print(\"Test RMSE:\", mean_squared_error(y_test, final_model.predict(X_test), squared=False))"
      ],
      "metadata": {
        "id": "vUufSvC_K6Fg"
      },
      "execution_count": null,
      "outputs": []
    },
    {
      "cell_type": "code",
      "source": [],
      "metadata": {
        "id": "LWS_r_ORNF91"
      },
      "execution_count": null,
      "outputs": []
    }
  ]
}