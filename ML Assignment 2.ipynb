{
  "nbformat": 4,
  "nbformat_minor": 0,
  "metadata": {
    "colab": {
      "provenance": [],
      "collapsed_sections": [],
      "authorship_tag": "ABX9TyOv+CbFjhFawdxSfoNPiOBb",
      "include_colab_link": true
    },
    "kernelspec": {
      "name": "python3",
      "display_name": "Python 3"
    },
    "language_info": {
      "name": "python"
    }
  },
  "cells": [
    {
      "cell_type": "markdown",
      "metadata": {
        "id": "view-in-github",
        "colab_type": "text"
      },
      "source": [
        "<a href=\"https://colab.research.google.com/github/SpoilStick/ML-Projects/blob/main/ML%20Assignment%202.ipynb\" target=\"_parent\"><img src=\"https://colab.research.google.com/assets/colab-badge.svg\" alt=\"Open In Colab\"/></a>"
      ]
    },
    {
      "cell_type": "code",
      "execution_count": null,
      "metadata": {
        "id": "Zk2sEPrp0Y-A"
      },
      "outputs": [],
      "source": [
        "import matplotlib as mpl\n",
        "import matplotlib.pyplot as plt\n",
        "import numpy as np\n",
        "import pandas as pd\n",
        "import seaborn as sns\n",
        "from sklearn import datasets\n",
        "from sklearn.linear_model import LinearRegression\n",
        "from sklearn.metrics import mean_squared_error\n",
        "from pandas.plotting import scatter_matrix\n",
        "from sklearn.model_selection import train_test_split\n",
        "from sklearn.model_selection import cross_val_score\n",
        "from sklearn.ensemble import RandomForestRegressor\n",
        "from sklearn.model_selection import GridSearchCV"
      ]
    },
    {
      "cell_type": "markdown",
      "source": [
        "# Part 1: Data Exploration\n",
        "\n",
        "> Indented block\n",
        "\n",
        "\n",
        "\n",
        "---"
      ],
      "metadata": {
        "id": "MIV_2veNGGgz"
      }
    },
    {
      "cell_type": "code",
      "source": [
        "diabetes = datasets.load_diabetes()"
      ],
      "metadata": {
        "id": "tp2_9EhL0dqU"
      },
      "execution_count": null,
      "outputs": []
    },
    {
      "cell_type": "code",
      "source": [
        "print(diabetes.DESCR)"
      ],
      "metadata": {
        "id": "eeZMpqoi0hEL"
      },
      "execution_count": null,
      "outputs": []
    },
    {
      "cell_type": "code",
      "source": [
        "data = pd.DataFrame(diabetes.data)\n",
        "features = diabetes.feature_names\n",
        "data.columns = features\n",
        "\n",
        "target = diabetes.target\n",
        "\n",
        "data['target'] = target"
      ],
      "metadata": {
        "id": "T5c1Bu9V0idn"
      },
      "execution_count": null,
      "outputs": []
    },
    {
      "cell_type": "code",
      "source": [
        "data.info()"
      ],
      "metadata": {
        "id": "0nLI2XJvm0Q7"
      },
      "execution_count": null,
      "outputs": []
    },
    {
      "cell_type": "code",
      "source": [
        "data.head()"
      ],
      "metadata": {
        "id": "We6dpn5_2UCV"
      },
      "execution_count": null,
      "outputs": []
    },
    {
      "cell_type": "code",
      "source": [
        "data.hist(bins=50, figsize=(20,15))\n",
        "plt.show()"
      ],
      "metadata": {
        "id": "KqZqR3BstPKw"
      },
      "execution_count": null,
      "outputs": []
    },
    {
      "cell_type": "code",
      "source": [
        "train, test =  train_test_split(data, test_size=0.2, random_state=42)\n",
        "train = pd.DataFrame(train)\n",
        "test = pd.DataFrame(test)"
      ],
      "metadata": {
        "id": "EeFElIWnt1Zu"
      },
      "execution_count": null,
      "outputs": []
    },
    {
      "cell_type": "code",
      "source": [
        "print(\"Train:\", len(train), \"Test:\", len(test))"
      ],
      "metadata": {
        "id": "31d0Igjg57Yf"
      },
      "execution_count": null,
      "outputs": []
    },
    {
      "cell_type": "code",
      "source": [
        "corr_matrix = data.corr()\n",
        "corr_matrix[\"target\"].sort_values(ascending=False)"
      ],
      "metadata": {
        "id": "swKIzkJc6Hrd"
      },
      "execution_count": null,
      "outputs": []
    },
    {
      "cell_type": "code",
      "source": [
        "plt.figure(figsize=(10,10))\n",
        "ax= sns.heatmap(corr_matrix, annot=True)\n",
        "plt.show()\n",
        "\n",
        "sns.pairplot(data[[\"bmi\",\"s5\",\"bp\"]])"
      ],
      "metadata": {
        "id": "Kiw3XBoMnSNM"
      },
      "execution_count": null,
      "outputs": []
    },
    {
      "cell_type": "code",
      "source": [
        "y_train, y_test = train['target'], test['target']\n",
        "X_train, X_test = train.drop(columns='target'), test.drop(columns='target')"
      ],
      "metadata": {
        "id": "nZiPh5Il6tN7"
      },
      "execution_count": null,
      "outputs": []
    },
    {
      "cell_type": "markdown",
      "source": [
        "# Part 2: Model Training\n",
        "\n",
        "---"
      ],
      "metadata": {
        "id": "UumV9dOuF9eo"
      }
    },
    {
      "cell_type": "code",
      "source": [
        "def print_scores(scores):\n",
        "  print(\"Scores:\", scores)\n",
        "  print(\"Mean:\", scores.mean())\n",
        "  print(\"Std:\", scores.std())"
      ],
      "metadata": {
        "id": "WdhpJPrSGZGx"
      },
      "execution_count": null,
      "outputs": []
    },
    {
      "cell_type": "markdown",
      "source": [
        "**Linear Regression**"
      ],
      "metadata": {
        "id": "wfiM9ILsFxlC"
      }
    },
    {
      "cell_type": "code",
      "source": [
        "lin_reg = LinearRegression().fit(X_train ,y_train)\n",
        "lin_predictions = lin_reg.predict(X_train)\n",
        "\n",
        "RMSE = mean_squared_error(y_train, lin_predictions, squared=False)\n",
        "print(\"RMSE:\", RMSE)\n",
        "\n",
        "lin_cv_scores = cross_val_score(lin_reg, X_train, y_train)\n",
        "lin_rmse_scores = np.sqrt(lin_cv_scores)\n",
        "print_scores(lin_rmse_scores)"
      ],
      "metadata": {
        "id": "pnA1vtnf7v7q"
      },
      "execution_count": null,
      "outputs": []
    },
    {
      "cell_type": "markdown",
      "source": [
        "**Random Forest Regressor**"
      ],
      "metadata": {
        "id": "SvvuphEnF4WD"
      }
    },
    {
      "cell_type": "code",
      "source": [
        "forest_reg = RandomForestRegressor(random_state=42).fit(X_train ,y_train)\n",
        "forest_predictions = forest_reg.predict(X_train)\n",
        "\n",
        "RMSE = mean_squared_error(y_train, forest_predictions, squared=False)\n",
        "print(\"RMSE:\", RMSE)\n",
        "\n",
        "forest_cv_scores = cross_val_score(forest_reg, X_train, y_train)\n",
        "forest_rmse_scores = np.sqrt(forest_cv_scores)\n",
        "print_scores(forest_rmse_scores)"
      ],
      "metadata": {
        "id": "Wuab_Y9VEkDC"
      },
      "execution_count": null,
      "outputs": []
    },
    {
      "cell_type": "markdown",
      "source": [
        "# Part 3: Model Tuning\n",
        "\n",
        "---\n",
        "\n"
      ],
      "metadata": {
        "id": "FHFmJCUlH1ib"
      }
    },
    {
      "cell_type": "code",
      "source": [
        "forest_reg.get_params()"
      ],
      "metadata": {
        "id": "qsiG96dtH5wD"
      },
      "execution_count": null,
      "outputs": []
    },
    {
      "cell_type": "code",
      "source": [
        "param_grid = [\n",
        "              {'n_estimators':  [3, 10, 30, 100], 'max_features': [2, 4, 6, 8]},\n",
        "              {'bootstrap': [False], 'n_estimators': [3, 10], 'max_features': [2,3,4]},\n",
        "]\n",
        "\n",
        "grid_search = GridSearchCV(forest_reg, param_grid, cv=5).fit(X_train, y_train)"
      ],
      "metadata": {
        "id": "e4Q7lEcRIbpr"
      },
      "execution_count": null,
      "outputs": []
    },
    {
      "cell_type": "code",
      "source": [
        "grid_search.best_params_"
      ],
      "metadata": {
        "id": "k7bAAAB01UjT"
      },
      "execution_count": null,
      "outputs": []
    },
    {
      "cell_type": "code",
      "source": [
        "cvres = grid_search.cv_results_\n",
        "\n",
        "for mean_score, params in zip(cvres[\"mean_test_score\"], cvres[\"params\"]):\n",
        "    print(np.sqrt(mean_score), params)"
      ],
      "metadata": {
        "id": "8gWtnheJvKXv"
      },
      "execution_count": null,
      "outputs": []
    },
    {
      "cell_type": "code",
      "source": [
        "pd.DataFrame(cvres)"
      ],
      "metadata": {
        "id": "jCHJPa_6vnOA"
      },
      "execution_count": null,
      "outputs": []
    },
    {
      "cell_type": "code",
      "source": [
        "feature_importances = grid_search.best_estimator_.feature_importances_\n",
        "sorted(zip(feature_importances, features), reverse=True)"
      ],
      "metadata": {
        "id": "m8sGKWYx0DSy"
      },
      "execution_count": null,
      "outputs": []
    },
    {
      "cell_type": "code",
      "source": [
        "RMSE = mean_squared_error(y_train, forest_predictions, squared=False)\n",
        "print(\"RMSE:\", RMSE)"
      ],
      "metadata": {
        "id": "7d27Mtm9HT7h"
      },
      "execution_count": null,
      "outputs": []
    },
    {
      "cell_type": "markdown",
      "source": [
        "**Correlation Matrix:** bmi s5 bp s4 s6 s1 age s2 sex s3"
      ],
      "metadata": {
        "id": "v_74AngP14B6"
      }
    },
    {
      "cell_type": "markdown",
      "source": [
        "**Feature Importances**: bmi s5 bp s3 s2 s4 s6 s1 age sex"
      ],
      "metadata": {
        "id": "DhAbLN922j5t"
      }
    },
    {
      "cell_type": "code",
      "source": [
        "best_param_model = grid_search.best_estimator_\n",
        "best_param_predictions = best_param_model.predict(X_train)\n",
        "\n",
        "best_param_RMSE = mean_squared_error(y_train, best_param_predictions, squared=False)\n",
        "print(best_param_RMSE)"
      ],
      "metadata": {
        "id": "nOAEkoNGJE-t"
      },
      "execution_count": null,
      "outputs": []
    },
    {
      "cell_type": "markdown",
      "source": [
        "#**Part 4: Model Evaluation**\n",
        "\n",
        "\n",
        "*   Assignment 1 Linear Regression RMSE: 59.21\n",
        "*   Assignment 2 Linear Regression RMSE: 53.56\n",
        "*   Assignment 2 Random Forest Regressor RMSE: 21.46\n",
        "*   Assignment 2 RFR with grid search parameters RMSE:  21.31"
      ],
      "metadata": {
        "id": "VFvmEvdH3Kpe"
      }
    }
  ]
}